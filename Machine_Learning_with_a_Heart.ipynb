{
  "nbformat": 4,
  "nbformat_minor": 0,
  "metadata": {
    "colab": {
      "name": "Machine Learning with a Heart.ipynb",
      "version": "0.3.2",
      "provenance": [],
      "include_colab_link": true
    },
    "kernelspec": {
      "name": "python3",
      "display_name": "Python 3"
    },
    "accelerator": "GPU"
  },
  "cells": [
    {
      "cell_type": "markdown",
      "metadata": {
        "id": "view-in-github",
        "colab_type": "text"
      },
      "source": [
        "<a href=\"https://colab.research.google.com/github/plaban1981/Multiclass--Logistic-Regression/blob/master/Machine_Learning_with_a_Heart.ipynb\" target=\"_parent\"><img src=\"https://colab.research.google.com/assets/colab-badge.svg\" alt=\"Open In Colab\"/></a>"
      ]
    },
    {
      "metadata": {
        "id": "EW14c9CaAZ_3",
        "colab_type": "text"
      },
      "cell_type": "markdown",
      "source": [
        "**Problem description**\n",
        "\n",
        "\n",
        " Goal is to predict the binary class heart_disease_present, which represents whether or not a patient has heart disease:\n",
        "\n",
        "* 0 represents no heart disease present\n",
        "\n",
        "* 1 represents heart disease present"
      ]
    },
    {
      "metadata": {
        "id": "7ZbOscDjAyvQ",
        "colab_type": "text"
      },
      "cell_type": "markdown",
      "source": [
        "**Data Description**\n",
        "\n",
        "There are 14 columns in the dataset, where the patient_id column is a unique and random identifier. The remaining 13 features are described in the section below.\n",
        "\n",
        "* slope_of_peak_exercise_st_segment (type: int): the slope of the peak exercise ST segment, an electrocardiography read out indicating quality of blood flow to the heart\n",
        "\n",
        "* thal (type: categorical): results of thallium stress test measuring blood flow to the heart, with possible values normal, fixed_defect, reversible_defect\n",
        "\n",
        "* resting_blood_pressure (type: int): resting blood pressure\n",
        "\n",
        "* chest_pain_type (type: int): chest pain type (4 values)\n",
        "\n",
        "* num_major_vessels (type: int): number of major vessels (0-3) colored by flourosopy\n",
        "\n",
        "* fasting_blood_sugar_gt_120_mg_per_dl (type: binary): fasting blood sugar > 120 mg/dl\n",
        "\n",
        "* resting_ekg_results (type: int): resting electrocardiographic results (values 0,1,2)\n",
        "\n",
        "* serum_cholesterol_mg_per_dl (type: int): serum cholestoral in mg/dl\n",
        "\n",
        "* oldpeak_eq_st_depression (type: float): oldpeak = ST depression induced by exercise relative to rest, a measure of abnormality in electrocardiograms\n",
        "\n",
        "* sex (type: binary): 0: female, 1: male\n",
        "\n",
        "* age (type: int): age in years\n",
        "\n",
        "* max_heart_rate_achieved (type: int): maximum heart rate achieved (beats per minute)\n",
        "\n",
        "* exercise_induced_angina (type: binary): exercise-induced chest pain (0: False, 1: True)"
      ]
    },
    {
      "metadata": {
        "id": "bGqYeUHECOrS",
        "colab_type": "text"
      },
      "cell_type": "markdown",
      "source": [
        "Attribute Information:\n",
        "------------------------\n",
        "      -- 1. age       \n",
        "      -- 2. sex       \n",
        "      -- 3. chest pain type  (4 values)       \n",
        "      -- 4. resting blood pressure  \n",
        "      -- 5. serum cholestoral in mg/dl      \n",
        "      -- 6. fasting blood sugar > 120 mg/dl       \n",
        "      -- 7. resting electrocardiographic results  (values 0,1,2) \n",
        "      -- 8. maximum heart rate achieved  \n",
        "      -- 9. exercise induced angina    \n",
        "      -- 10. oldpeak = ST depression induced by exercise relative to rest   \n",
        "      -- 11. the slope of the peak exercise ST segment     \n",
        "      -- 12. number of major vessels (0-3) colored by flourosopy        \n",
        "      -- 13.  thal: 3 = normal; 6 = fixed defect; 7 = reversable defect     \n",
        "\n",
        "Attributes types\n",
        "-----------------\n",
        "\n",
        "Real: 1,4,5,8,10,12\n",
        "\n",
        "Ordered:11,\n",
        "\n",
        "Binary: 2,6,9\n",
        "\n",
        "Nominal:7,3,13\n",
        "\n",
        "Variable to be predicted\n",
        "------------------------\n",
        "\n",
        "Absence (0) \n",
        "\n",
        "or \n",
        "\n",
        "presence (1) \n",
        "\n",
        "\n",
        "of heart disease\n"
      ]
    },
    {
      "metadata": {
        "id": "jKIFM2tICf9D",
        "colab_type": "text"
      },
      "cell_type": "markdown",
      "source": [
        "**Performance metric**\n",
        "\n",
        "Performance is evaluated according to binary log loss."
      ]
    },
    {
      "metadata": {
        "id": "h97aJuFtCvFE",
        "colab_type": "text"
      },
      "cell_type": "markdown",
      "source": [
        "The format for the submission file is two columns with the patient_id and heart_disease_present. \n",
        "\n",
        "This competition uses log loss as its evaluation metric, so the heart_disease_present values you should submit are the probabilities that a patient has heart disease (not the binary label)."
      ]
    },
    {
      "metadata": {
        "id": "gRlV8-m-CyQT",
        "colab_type": "text"
      },
      "cell_type": "markdown",
      "source": [
        "**Importing Libraries**"
      ]
    },
    {
      "metadata": {
        "id": "EUq1YjNQDkBk",
        "colab_type": "code",
        "colab": {}
      },
      "cell_type": "code",
      "source": [
        "import numpy as np\n",
        "import pandas as pd\n",
        "import seaborn as sns\n",
        "import matplotlib.pyplot as plt\n",
        "%matplotlib inline "
      ],
      "execution_count": 0,
      "outputs": []
    },
    {
      "metadata": {
        "id": "M6OhS_a3ETsO",
        "colab_type": "code",
        "colab": {
          "resources": {
            "http://localhost:8080/nbextensions/google.colab/files.js": {
              "data": "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",
              "ok": true,
              "headers": [
                [
                  "content-type",
                  "application/javascript"
                ]
              ],
              "status": 200,
              "status_text": ""
            }
          },
          "base_uri": "https://localhost:8080/",
          "height": 111
        },
        "outputId": "0e9e8393-0341-484b-fe6d-a22cde733f7b"
      },
      "cell_type": "code",
      "source": [
        "from google.colab import files\n",
        "files.upload()"
      ],
      "execution_count": 5,
      "outputs": [
        {
          "output_type": "display_data",
          "data": {
            "text/html": [
              "\n",
              "     <input type=\"file\" id=\"files-47e9ac6e-4336-4d0a-b553-195cb1a58863\" name=\"files[]\" multiple disabled />\n",
              "     <output id=\"result-47e9ac6e-4336-4d0a-b553-195cb1a58863\">\n",
              "      Upload widget is only available when the cell has been executed in the\n",
              "      current browser session. Please rerun this cell to enable.\n",
              "      </output>\n",
              "      <script src=\"/nbextensions/google.colab/files.js\"></script> "
            ],
            "text/plain": [
              "<IPython.core.display.HTML object>"
            ]
          },
          "metadata": {
            "tags": []
          }
        },
        {
          "output_type": "stream",
          "text": [
            "Saving test_values.csv to test_values.csv\n"
          ],
          "name": "stdout"
        },
        {
          "output_type": "execute_result",
          "data": {
            "text/plain": [
              "{'test_values.csv': b'patient_id,slope_of_peak_exercise_st_segment,thal,resting_blood_pressure,chest_pain_type,num_major_vessels,fasting_blood_sugar_gt_120_mg_per_dl,resting_ekg_results,serum_cholesterol_mg_per_dl,oldpeak_eq_st_depression,sex,age,max_heart_rate_achieved,exercise_induced_angina\\nolalu7,2,reversible_defect,170,1,0,0,2,288,0.2,1,59,159,0\\nz9n6mx,1,normal,138,4,0,0,0,183,1.4,0,35,182,0\\n5k4413,2,reversible_defect,120,4,0,0,2,177,2.5,1,43,120,1\\nmrg7q5,1,normal,102,3,1,0,0,318,0.0,0,60,160,0\\nuki4do,2,normal,138,4,1,0,2,166,3.6,1,61,125,1\\nkev1sk,2,normal,122,3,0,0,0,213,0.2,0,43,165,0\\n9n6let,3,normal,150,1,0,0,0,226,2.6,0,66,114,0\\njxmtyg,2,reversible_defect,140,3,3,0,2,254,2.0,1,69,146,0\\n51s2ff,1,normal,138,4,0,0,2,271,0.0,1,59,182,0\\nwi9mcs,1,normal,138,3,0,0,2,257,0.0,1,47,156,0\\n741h4l,3,normal,130,3,0,0,0,250,3.5,1,37,187,0\\n1ef64a,2,reversible_defect,140,3,1,0,0,233,0.6,1,50,163,0\\nwa2ix6,1,normal,140,4,0,0,2,261,0.0,1,51,186,1\\n8167zl,2,reversible_defect,150,4,3,0,2,407,4.0,0,63,154,0\\nn6nldr,1,normal,140,2,0,0,0,221,0.0,1,59,164,1\\nph85fp,1,normal,126,2,0,0,0,306,0.0,0,41,163,0\\njfan5p,1,normal,94,3,0,0,0,199,0.0,0,39,179,0\\n7c4iz1,1,normal,120,3,0,1,0,178,0.0,0,60,96,0\\nukigml,2,reversible_defect,130,3,3,0,0,231,1.8,1,62,146,0\\nflwvnq,1,normal,129,3,0,0,0,196,0.0,1,50,163,0\\n5i4fw2,2,reversible_defect,120,4,1,0,0,260,3.6,1,61,140,1\\ndu1pqf,2,normal,130,4,0,0,2,264,0.4,0,53,143,0\\nvs68qz,1,normal,134,2,1,0,0,201,0.8,1,52,158,0\\npfyez0,1,normal,150,1,0,0,0,240,0.9,0,60,171,0\\nazvkw2,1,reversible_defect,110,4,0,0,0,211,0.0,1,43,161,0\\ncird1i,2,fixed_defect,132,4,1,0,2,184,2.1,1,56,105,1\\n3bg32t,3,reversible_defect,120,3,0,1,0,240,0.8,1,42,194,0\\nxzd050,1,normal,132,2,1,1,2,288,0.0,0,54,159,1\\neyi8et,2,normal,108,4,2,0,0,269,1.8,0,63,169,1\\nce4x2h,2,normal,120,3,0,0,0,209,0.0,0,42,173,0\\nsm91nr,2,reversible_defect,132,4,0,1,2,341,3.0,0,43,136,1\\n2il8hh,2,reversible_defect,152,1,0,1,0,298,1.2,1,52,178,0\\nyq9cqg,1,fixed_defect,110,4,2,0,2,248,0.6,1,65,158,0\\n520v5j,2,normal,150,3,0,0,0,231,3.6,1,46,147,0\\nammgu2,1,normal,158,4,0,0,2,305,0.0,0,60,161,0\\njix8hj,1,normal,130,4,0,0,0,269,0.0,0,49,163,0\\nlj5zrq,2,normal,174,4,0,0,0,249,0.0,0,59,143,1\\n16ceba,2,normal,100,3,0,0,0,222,1.2,1,51,143,1\\n93w44s,1,reversible_defect,101,2,0,1,0,197,0.0,1,46,156,0\\nbso17z,1,normal,110,2,0,0,0,235,0.0,1,41,153,0\\nj2w2dc,2,reversible_defect,134,4,2,0,2,409,1.9,0,56,150,1\\n74vwwl,2,fixed_defect,118,1,0,0,2,186,0.0,1,52,190,0\\n0z3fob,2,reversible_defect,146,4,1,0,0,218,2.0,1,58,105,0\\nmr7zyz,1,normal,118,1,0,0,2,182,0.0,1,34,174,0\\npp5n63,1,reversible_defect,140,4,1,0,2,207,1.9,1,61,138,1\\nj0hix1,2,normal,130,2,0,0,2,245,0.2,1,48,180,0\\nrn209i,1,normal,138,4,0,0,2,234,0.0,0,53,160,0\\nnfit8e,1,normal,120,4,0,0,0,354,0.6,0,57,163,1\\nnb73sy,2,normal,120,2,0,0,2,284,1.8,1,58,160,0\\ni79t3w,3,normal,140,4,2,0,2,268,3.6,0,62,160,0\\n9nv2d9,2,normal,104,4,0,0,2,208,3.0,1,45,148,1\\n2xbeja,1,normal,120,3,0,0,2,295,0.6,0,51,157,0\\nlwg3wq,3,reversible_defect,200,4,2,1,2,288,4.0,0,56,133,1\\nlrvqwb,1,normal,150,3,0,1,0,212,1.6,1,59,157,0\\nc6mepo,1,reversible_defect,192,2,1,0,2,283,0.0,1,54,195,0\\n6ued22,1,normal,120,2,0,0,0,236,0.8,1,56,178,0\\n112e9h,2,reversible_defect,160,3,1,0,0,269,2.9,1,70,112,1\\n8jc7h2,2,normal,118,3,1,0,0,242,0.3,0,44,149,0\\nunykmj,3,normal,142,3,0,0,2,177,1.4,0,46,160,1\\n4yeztb,2,fixed_defect,110,4,0,0,0,201,1.5,1,57,126,1\\ntgpy9u,1,normal,120,2,0,0,0,325,0.2,1,52,172,0\\npf5wp6,2,reversible_defect,135,4,1,0,2,254,2.8,1,65,127,0\\ncj8vj2,1,normal,115,4,0,0,2,260,0.0,1,45,185,0\\n9w6d9j,2,normal,122,4,2,0,2,286,3.2,1,54,116,1\\n3l89wd,1,normal,128,2,0,1,2,208,0.0,1,62,140,0\\n83a6x1,2,normal,110,4,1,0,2,275,1.0,1,47,118,1\\noua0gr,2,normal,125,4,1,1,2,249,1.2,1,56,144,1\\nj0hl96,1,reversible_defect,100,4,1,0,0,234,0.1,1,58,156,0\\ndlkzyg,2,reversible_defect,145,4,0,0,2,307,1.0,0,61,146,1\\nr0w4a8,2,normal,110,4,1,0,2,206,0.0,1,54,108,1\\n46dlca,2,normal,140,3,0,0,1,197,1.1,0,76,116,0\\n9fkefu,2,reversible_defect,123,4,2,0,0,282,2.0,1,53,95,1\\n6uk6kl,2,reversible_defect,152,4,1,0,0,274,1.2,1,57,88,1\\nc7olxr,2,reversible_defect,120,4,2,0,2,229,2.6,1,67,129,1\\niiyx0q,2,reversible_defect,165,4,3,1,2,289,1.0,1,57,124,0\\n25vetx,2,reversible_defect,125,4,1,0,2,258,2.8,1,60,141,1\\n073vc5,2,reversible_defect,150,4,0,0,2,243,2.6,1,50,128,0\\n18abn0,2,fixed_defect,160,2,3,0,0,246,0.0,1,66,120,1\\nv5fsfs,1,normal,112,4,1,0,0,230,0.0,1,52,160,0\\n2ekoo7,2,reversible_defect,105,3,0,0,2,240,0.6,1,58,154,1\\n5bbknr,2,reversible_defect,135,4,0,0,0,234,0.5,1,59,161,0\\nhr6pjx,1,normal,105,2,1,0,0,198,0.0,0,41,168,0\\nr4hsar,2,normal,120,4,0,0,0,237,1.0,1,67,71,0\\n4cezdf,1,reversible_defect,125,4,2,0,0,212,1.0,1,52,168,0\\npalhcc,2,normal,140,4,0,0,2,394,1.2,0,62,157,0\\nbwoyg6,1,normal,120,3,0,0,0,340,0.0,0,58,172,0\\nj8i7ve,2,fixed_defect,136,4,0,0,0,315,1.8,1,42,125,1\\nt2zn1n,1,normal,148,1,2,0,2,244,0.8,1,42,178,0\\noxf8kj,2,normal,138,4,0,0,2,243,0.0,0,46,152,1\\naeiv0y,1,normal,150,4,0,0,0,247,1.5,1,43,171,0\\n'}"
            ]
          },
          "metadata": {
            "tags": []
          },
          "execution_count": 5
        }
      ]
    },
    {
      "metadata": {
        "id": "Fs8jmWO2D3Bl",
        "colab_type": "text"
      },
      "cell_type": "markdown",
      "source": [
        "**Importing Data**"
      ]
    },
    {
      "metadata": {
        "id": "i9mM9B6nEOYu",
        "colab_type": "code",
        "colab": {}
      },
      "cell_type": "code",
      "source": [
        "train_values = pd.read_csv('train_values.csv')\n",
        "train_labels = pd.read_csv('train_labels.csv')"
      ],
      "execution_count": 0,
      "outputs": []
    },
    {
      "metadata": {
        "id": "xTnJDld8D1_t",
        "colab_type": "code",
        "colab": {
          "base_uri": "https://localhost:8080/",
          "height": 224
        },
        "outputId": "ad2beca9-0fc8-44cd-964a-f0bc650a53fd"
      },
      "cell_type": "code",
      "source": [
        "train_values.head()"
      ],
      "execution_count": 7,
      "outputs": [
        {
          "output_type": "execute_result",
          "data": {
            "text/html": [
              "<div>\n",
              "<style scoped>\n",
              "    .dataframe tbody tr th:only-of-type {\n",
              "        vertical-align: middle;\n",
              "    }\n",
              "\n",
              "    .dataframe tbody tr th {\n",
              "        vertical-align: top;\n",
              "    }\n",
              "\n",
              "    .dataframe thead th {\n",
              "        text-align: right;\n",
              "    }\n",
              "</style>\n",
              "<table border=\"1\" class=\"dataframe\">\n",
              "  <thead>\n",
              "    <tr style=\"text-align: right;\">\n",
              "      <th></th>\n",
              "      <th>patient_id</th>\n",
              "      <th>slope_of_peak_exercise_st_segment</th>\n",
              "      <th>thal</th>\n",
              "      <th>resting_blood_pressure</th>\n",
              "      <th>chest_pain_type</th>\n",
              "      <th>num_major_vessels</th>\n",
              "      <th>fasting_blood_sugar_gt_120_mg_per_dl</th>\n",
              "      <th>resting_ekg_results</th>\n",
              "      <th>serum_cholesterol_mg_per_dl</th>\n",
              "      <th>oldpeak_eq_st_depression</th>\n",
              "      <th>sex</th>\n",
              "      <th>age</th>\n",
              "      <th>max_heart_rate_achieved</th>\n",
              "      <th>exercise_induced_angina</th>\n",
              "    </tr>\n",
              "  </thead>\n",
              "  <tbody>\n",
              "    <tr>\n",
              "      <th>0</th>\n",
              "      <td>0z64un</td>\n",
              "      <td>1</td>\n",
              "      <td>normal</td>\n",
              "      <td>128</td>\n",
              "      <td>2</td>\n",
              "      <td>0</td>\n",
              "      <td>0</td>\n",
              "      <td>2</td>\n",
              "      <td>308</td>\n",
              "      <td>0.0</td>\n",
              "      <td>1</td>\n",
              "      <td>45</td>\n",
              "      <td>170</td>\n",
              "      <td>0</td>\n",
              "    </tr>\n",
              "    <tr>\n",
              "      <th>1</th>\n",
              "      <td>ryoo3j</td>\n",
              "      <td>2</td>\n",
              "      <td>normal</td>\n",
              "      <td>110</td>\n",
              "      <td>3</td>\n",
              "      <td>0</td>\n",
              "      <td>0</td>\n",
              "      <td>0</td>\n",
              "      <td>214</td>\n",
              "      <td>1.6</td>\n",
              "      <td>0</td>\n",
              "      <td>54</td>\n",
              "      <td>158</td>\n",
              "      <td>0</td>\n",
              "    </tr>\n",
              "    <tr>\n",
              "      <th>2</th>\n",
              "      <td>yt1s1x</td>\n",
              "      <td>1</td>\n",
              "      <td>normal</td>\n",
              "      <td>125</td>\n",
              "      <td>4</td>\n",
              "      <td>3</td>\n",
              "      <td>0</td>\n",
              "      <td>2</td>\n",
              "      <td>304</td>\n",
              "      <td>0.0</td>\n",
              "      <td>1</td>\n",
              "      <td>77</td>\n",
              "      <td>162</td>\n",
              "      <td>1</td>\n",
              "    </tr>\n",
              "    <tr>\n",
              "      <th>3</th>\n",
              "      <td>l2xjde</td>\n",
              "      <td>1</td>\n",
              "      <td>reversible_defect</td>\n",
              "      <td>152</td>\n",
              "      <td>4</td>\n",
              "      <td>0</td>\n",
              "      <td>0</td>\n",
              "      <td>0</td>\n",
              "      <td>223</td>\n",
              "      <td>0.0</td>\n",
              "      <td>1</td>\n",
              "      <td>40</td>\n",
              "      <td>181</td>\n",
              "      <td>0</td>\n",
              "    </tr>\n",
              "    <tr>\n",
              "      <th>4</th>\n",
              "      <td>oyt4ek</td>\n",
              "      <td>3</td>\n",
              "      <td>reversible_defect</td>\n",
              "      <td>178</td>\n",
              "      <td>1</td>\n",
              "      <td>0</td>\n",
              "      <td>0</td>\n",
              "      <td>2</td>\n",
              "      <td>270</td>\n",
              "      <td>4.2</td>\n",
              "      <td>1</td>\n",
              "      <td>59</td>\n",
              "      <td>145</td>\n",
              "      <td>0</td>\n",
              "    </tr>\n",
              "  </tbody>\n",
              "</table>\n",
              "</div>"
            ],
            "text/plain": [
              "  patient_id  slope_of_peak_exercise_st_segment               thal  \\\n",
              "0     0z64un                                  1             normal   \n",
              "1     ryoo3j                                  2             normal   \n",
              "2     yt1s1x                                  1             normal   \n",
              "3     l2xjde                                  1  reversible_defect   \n",
              "4     oyt4ek                                  3  reversible_defect   \n",
              "\n",
              "   resting_blood_pressure  chest_pain_type  num_major_vessels  \\\n",
              "0                     128                2                  0   \n",
              "1                     110                3                  0   \n",
              "2                     125                4                  3   \n",
              "3                     152                4                  0   \n",
              "4                     178                1                  0   \n",
              "\n",
              "   fasting_blood_sugar_gt_120_mg_per_dl  resting_ekg_results  \\\n",
              "0                                     0                    2   \n",
              "1                                     0                    0   \n",
              "2                                     0                    2   \n",
              "3                                     0                    0   \n",
              "4                                     0                    2   \n",
              "\n",
              "   serum_cholesterol_mg_per_dl  oldpeak_eq_st_depression  sex  age  \\\n",
              "0                          308                       0.0    1   45   \n",
              "1                          214                       1.6    0   54   \n",
              "2                          304                       0.0    1   77   \n",
              "3                          223                       0.0    1   40   \n",
              "4                          270                       4.2    1   59   \n",
              "\n",
              "   max_heart_rate_achieved  exercise_induced_angina  \n",
              "0                      170                        0  \n",
              "1                      158                        0  \n",
              "2                      162                        1  \n",
              "3                      181                        0  \n",
              "4                      145                        0  "
            ]
          },
          "metadata": {
            "tags": []
          },
          "execution_count": 7
        }
      ]
    },
    {
      "metadata": {
        "id": "WXEukkqPE-Je",
        "colab_type": "code",
        "colab": {
          "base_uri": "https://localhost:8080/",
          "height": 204
        },
        "outputId": "b8e1b05a-7eca-48b8-a61f-3e704128ed78"
      },
      "cell_type": "code",
      "source": [
        "train_labels.head()"
      ],
      "execution_count": 8,
      "outputs": [
        {
          "output_type": "execute_result",
          "data": {
            "text/html": [
              "<div>\n",
              "<style scoped>\n",
              "    .dataframe tbody tr th:only-of-type {\n",
              "        vertical-align: middle;\n",
              "    }\n",
              "\n",
              "    .dataframe tbody tr th {\n",
              "        vertical-align: top;\n",
              "    }\n",
              "\n",
              "    .dataframe thead th {\n",
              "        text-align: right;\n",
              "    }\n",
              "</style>\n",
              "<table border=\"1\" class=\"dataframe\">\n",
              "  <thead>\n",
              "    <tr style=\"text-align: right;\">\n",
              "      <th></th>\n",
              "      <th>patient_id</th>\n",
              "      <th>heart_disease_present</th>\n",
              "    </tr>\n",
              "  </thead>\n",
              "  <tbody>\n",
              "    <tr>\n",
              "      <th>0</th>\n",
              "      <td>0z64un</td>\n",
              "      <td>0</td>\n",
              "    </tr>\n",
              "    <tr>\n",
              "      <th>1</th>\n",
              "      <td>ryoo3j</td>\n",
              "      <td>0</td>\n",
              "    </tr>\n",
              "    <tr>\n",
              "      <th>2</th>\n",
              "      <td>yt1s1x</td>\n",
              "      <td>1</td>\n",
              "    </tr>\n",
              "    <tr>\n",
              "      <th>3</th>\n",
              "      <td>l2xjde</td>\n",
              "      <td>1</td>\n",
              "    </tr>\n",
              "    <tr>\n",
              "      <th>4</th>\n",
              "      <td>oyt4ek</td>\n",
              "      <td>0</td>\n",
              "    </tr>\n",
              "  </tbody>\n",
              "</table>\n",
              "</div>"
            ],
            "text/plain": [
              "  patient_id  heart_disease_present\n",
              "0     0z64un                      0\n",
              "1     ryoo3j                      0\n",
              "2     yt1s1x                      1\n",
              "3     l2xjde                      1\n",
              "4     oyt4ek                      0"
            ]
          },
          "metadata": {
            "tags": []
          },
          "execution_count": 8
        }
      ]
    },
    {
      "metadata": {
        "id": "FsNz1KxkFJIP",
        "colab_type": "text"
      },
      "cell_type": "markdown",
      "source": [
        "In order to analyse the data I will need both the train_values and train_labels to be combined into one dataframe. \n",
        "\n",
        "Pandas provides a merge function that will join dataframes on either columns or indexes.\n",
        "\n",
        "In the following code I am performing an inner merge using the patient_id to join the correct value with the correct labels."
      ]
    },
    {
      "metadata": {
        "id": "wSa7IUlrFMf2",
        "colab_type": "code",
        "colab": {
          "base_uri": "https://localhost:8080/",
          "height": 224
        },
        "outputId": "e2245d74-b17e-4554-d21c-8b3393e2daa2"
      },
      "cell_type": "code",
      "source": [
        "train = pd.merge(train_values,train_labels,how='inner',on='patient_id')\n",
        "train.head()"
      ],
      "execution_count": 11,
      "outputs": [
        {
          "output_type": "execute_result",
          "data": {
            "text/html": [
              "<div>\n",
              "<style scoped>\n",
              "    .dataframe tbody tr th:only-of-type {\n",
              "        vertical-align: middle;\n",
              "    }\n",
              "\n",
              "    .dataframe tbody tr th {\n",
              "        vertical-align: top;\n",
              "    }\n",
              "\n",
              "    .dataframe thead th {\n",
              "        text-align: right;\n",
              "    }\n",
              "</style>\n",
              "<table border=\"1\" class=\"dataframe\">\n",
              "  <thead>\n",
              "    <tr style=\"text-align: right;\">\n",
              "      <th></th>\n",
              "      <th>patient_id</th>\n",
              "      <th>slope_of_peak_exercise_st_segment</th>\n",
              "      <th>thal</th>\n",
              "      <th>resting_blood_pressure</th>\n",
              "      <th>chest_pain_type</th>\n",
              "      <th>num_major_vessels</th>\n",
              "      <th>fasting_blood_sugar_gt_120_mg_per_dl</th>\n",
              "      <th>resting_ekg_results</th>\n",
              "      <th>serum_cholesterol_mg_per_dl</th>\n",
              "      <th>oldpeak_eq_st_depression</th>\n",
              "      <th>sex</th>\n",
              "      <th>age</th>\n",
              "      <th>max_heart_rate_achieved</th>\n",
              "      <th>exercise_induced_angina</th>\n",
              "      <th>heart_disease_present</th>\n",
              "    </tr>\n",
              "  </thead>\n",
              "  <tbody>\n",
              "    <tr>\n",
              "      <th>0</th>\n",
              "      <td>0z64un</td>\n",
              "      <td>1</td>\n",
              "      <td>normal</td>\n",
              "      <td>128</td>\n",
              "      <td>2</td>\n",
              "      <td>0</td>\n",
              "      <td>0</td>\n",
              "      <td>2</td>\n",
              "      <td>308</td>\n",
              "      <td>0.0</td>\n",
              "      <td>1</td>\n",
              "      <td>45</td>\n",
              "      <td>170</td>\n",
              "      <td>0</td>\n",
              "      <td>0</td>\n",
              "    </tr>\n",
              "    <tr>\n",
              "      <th>1</th>\n",
              "      <td>ryoo3j</td>\n",
              "      <td>2</td>\n",
              "      <td>normal</td>\n",
              "      <td>110</td>\n",
              "      <td>3</td>\n",
              "      <td>0</td>\n",
              "      <td>0</td>\n",
              "      <td>0</td>\n",
              "      <td>214</td>\n",
              "      <td>1.6</td>\n",
              "      <td>0</td>\n",
              "      <td>54</td>\n",
              "      <td>158</td>\n",
              "      <td>0</td>\n",
              "      <td>0</td>\n",
              "    </tr>\n",
              "    <tr>\n",
              "      <th>2</th>\n",
              "      <td>yt1s1x</td>\n",
              "      <td>1</td>\n",
              "      <td>normal</td>\n",
              "      <td>125</td>\n",
              "      <td>4</td>\n",
              "      <td>3</td>\n",
              "      <td>0</td>\n",
              "      <td>2</td>\n",
              "      <td>304</td>\n",
              "      <td>0.0</td>\n",
              "      <td>1</td>\n",
              "      <td>77</td>\n",
              "      <td>162</td>\n",
              "      <td>1</td>\n",
              "      <td>1</td>\n",
              "    </tr>\n",
              "    <tr>\n",
              "      <th>3</th>\n",
              "      <td>l2xjde</td>\n",
              "      <td>1</td>\n",
              "      <td>reversible_defect</td>\n",
              "      <td>152</td>\n",
              "      <td>4</td>\n",
              "      <td>0</td>\n",
              "      <td>0</td>\n",
              "      <td>0</td>\n",
              "      <td>223</td>\n",
              "      <td>0.0</td>\n",
              "      <td>1</td>\n",
              "      <td>40</td>\n",
              "      <td>181</td>\n",
              "      <td>0</td>\n",
              "      <td>1</td>\n",
              "    </tr>\n",
              "    <tr>\n",
              "      <th>4</th>\n",
              "      <td>oyt4ek</td>\n",
              "      <td>3</td>\n",
              "      <td>reversible_defect</td>\n",
              "      <td>178</td>\n",
              "      <td>1</td>\n",
              "      <td>0</td>\n",
              "      <td>0</td>\n",
              "      <td>2</td>\n",
              "      <td>270</td>\n",
              "      <td>4.2</td>\n",
              "      <td>1</td>\n",
              "      <td>59</td>\n",
              "      <td>145</td>\n",
              "      <td>0</td>\n",
              "      <td>0</td>\n",
              "    </tr>\n",
              "  </tbody>\n",
              "</table>\n",
              "</div>"
            ],
            "text/plain": [
              "  patient_id  slope_of_peak_exercise_st_segment               thal  \\\n",
              "0     0z64un                                  1             normal   \n",
              "1     ryoo3j                                  2             normal   \n",
              "2     yt1s1x                                  1             normal   \n",
              "3     l2xjde                                  1  reversible_defect   \n",
              "4     oyt4ek                                  3  reversible_defect   \n",
              "\n",
              "   resting_blood_pressure  chest_pain_type  num_major_vessels  \\\n",
              "0                     128                2                  0   \n",
              "1                     110                3                  0   \n",
              "2                     125                4                  3   \n",
              "3                     152                4                  0   \n",
              "4                     178                1                  0   \n",
              "\n",
              "   fasting_blood_sugar_gt_120_mg_per_dl  resting_ekg_results  \\\n",
              "0                                     0                    2   \n",
              "1                                     0                    0   \n",
              "2                                     0                    2   \n",
              "3                                     0                    0   \n",
              "4                                     0                    2   \n",
              "\n",
              "   serum_cholesterol_mg_per_dl  oldpeak_eq_st_depression  sex  age  \\\n",
              "0                          308                       0.0    1   45   \n",
              "1                          214                       1.6    0   54   \n",
              "2                          304                       0.0    1   77   \n",
              "3                          223                       0.0    1   40   \n",
              "4                          270                       4.2    1   59   \n",
              "\n",
              "   max_heart_rate_achieved  exercise_induced_angina  heart_disease_present  \n",
              "0                      170                        0                      0  \n",
              "1                      158                        0                      0  \n",
              "2                      162                        1                      1  \n",
              "3                      181                        0                      1  \n",
              "4                      145                        0                      0  "
            ]
          },
          "metadata": {
            "tags": []
          },
          "execution_count": 11
        }
      ]
    },
    {
      "metadata": {
        "id": "ULQv5As6Fzxt",
        "colab_type": "text"
      },
      "cell_type": "markdown",
      "source": [
        "**Missing Data-Check**"
      ]
    },
    {
      "metadata": {
        "id": "07ze-GZNF2Dv",
        "colab_type": "code",
        "colab": {
          "base_uri": "https://localhost:8080/",
          "height": 34
        },
        "outputId": "4a544dae-b9f1-4eba-a046-344c66eb3da3"
      },
      "cell_type": "code",
      "source": [
        "train.isnull().sum()[train.isnull().sum() !=0]"
      ],
      "execution_count": 12,
      "outputs": [
        {
          "output_type": "execute_result",
          "data": {
            "text/plain": [
              "Series([], dtype: int64)"
            ]
          },
          "metadata": {
            "tags": []
          },
          "execution_count": 12
        }
      ]
    },
    {
      "metadata": {
        "id": "EeLioO-9F9NO",
        "colab_type": "text"
      },
      "cell_type": "markdown",
      "source": [
        "*No missing data encountered in the training dataset*"
      ]
    },
    {
      "metadata": {
        "id": "9ngGchyKGBq-",
        "colab_type": "text"
      },
      "cell_type": "markdown",
      "source": [
        "**Visualize Data**"
      ]
    },
    {
      "metadata": {
        "id": "cmuXIFFyGknX",
        "colab_type": "code",
        "colab": {
          "base_uri": "https://localhost:8080/",
          "height": 301
        },
        "outputId": "3bff1180-113c-42f2-d1fb-626727180c3f"
      },
      "cell_type": "code",
      "source": [
        "sns.set_style('whitegrid')\n",
        "sns.countplot('heart_disease_present',data=train)"
      ],
      "execution_count": 13,
      "outputs": [
        {
          "output_type": "execute_result",
          "data": {
            "text/plain": [
              "<matplotlib.axes._subplots.AxesSubplot at 0x7f198a1e6320>"
            ]
          },
          "metadata": {
            "tags": []
          },
          "execution_count": 13
        },
        {
          "output_type": "display_data",
          "data": {
            "image/png": "[encoded data removed]",
            "text/plain": [
              "<Figure size 432x288 with 1 Axes>"
            ]
          },
          "metadata": {
            "tags": []
          }
        }
      ]
    },
    {
      "metadata": {
        "id": "H0G9MWnQH59Z",
        "colab_type": "code",
        "colab": {
          "base_uri": "https://localhost:8080/",
          "height": 362
        },
        "outputId": "f2362eda-c484-484a-c5c0-cba25b77774f"
      },
      "cell_type": "code",
      "source": [
        "train['thal'].value_counts().plot.bar()"
      ],
      "execution_count": 15,
      "outputs": [
        {
          "output_type": "execute_result",
          "data": {
            "text/plain": [
              "<matplotlib.axes._subplots.AxesSubplot at 0x7f19878f0198>"
            ]
          },
          "metadata": {
            "tags": []
          },
          "execution_count": 15
        },
        {
          "output_type": "display_data",
          "data": {
            "image/png": "[encoded data removed]",
            "text/plain": [
              "<Figure size 432x288 with 1 Axes>"
            ]
          },
          "metadata": {
            "tags": []
          }
        }
      ]
    },
    {
      "metadata": {
        "id": "FnzUcNEMIM6D",
        "colab_type": "code",
        "colab": {}
      },
      "cell_type": "code",
      "source": [
        "X = train.drop(['patient_id','heart_disease_present'],axis=1)\n",
        "Y = train['heart_disease_present']"
      ],
      "execution_count": 0,
      "outputs": []
    },
    {
      "metadata": {
        "id": "2Reyj8aUIHhK",
        "colab_type": "code",
        "colab": {
          "base_uri": "https://localhost:8080/",
          "height": 473
        },
        "outputId": "0d271df5-9346-4c94-dffd-aa4926e8f3d7"
      },
      "cell_type": "code",
      "source": [
        "sns.heatmap(X.corr(),annot=True)"
      ],
      "execution_count": 23,
      "outputs": [
        {
          "output_type": "execute_result",
          "data": {
            "text/plain": [
              "<matplotlib.axes._subplots.AxesSubplot at 0x7f1986458470>"
            ]
          },
          "metadata": {
            "tags": []
          },
          "execution_count": 23
        },
        {
          "output_type": "display_data",
          "data": {
            "image/png": "[encoded data removed]",
            "text/plain": [
              "<Figure size 432x288 with 2 Axes>"
            ]
          },
          "metadata": {
            "tags": []
          }
        }
      ]
    },
    {
      "metadata": {
        "id": "xKxmIYRMJdTT",
        "colab_type": "text"
      },
      "cell_type": "markdown",
      "source": [
        "Using the groupby function we can plot the mean resting_blood_pressure by slope_of_peak_exercise_st_segment."
      ]
    },
    {
      "metadata": {
        "id": "jX1h-v3vJeBt",
        "colab_type": "code",
        "colab": {
          "base_uri": "https://localhost:8080/",
          "height": 297
        },
        "outputId": "fb72ddb0-727a-42bf-a4fd-753bcca916e4"
      },
      "cell_type": "code",
      "source": [
        "train.groupby(\"slope_of_peak_exercise_st_segment\")['resting_blood_pressure'].mean().plot(kind='bar')"
      ],
      "execution_count": 24,
      "outputs": [
        {
          "output_type": "execute_result",
          "data": {
            "text/plain": [
              "<matplotlib.axes._subplots.AxesSubplot at 0x7f19862f1668>"
            ]
          },
          "metadata": {
            "tags": []
          },
          "execution_count": 24
        },
        {
          "output_type": "display_data",
          "data": {
            "image/png": "[encoded data removed]",
            "text/plain": [
              "<Figure size 432x288 with 1 Axes>"
            ]
          },
          "metadata": {
            "tags": []
          }
        }
      ]
    },
    {
      "metadata": {
        "id": "C86tXBYwJyj7",
        "colab_type": "text"
      },
      "cell_type": "markdown",
      "source": [
        "Pandas pivot tables can also be used to provide visualisations of aggregated data. \n",
        "\n",
        "Here I am comparing mean serum_cholesterol_mg_per_dl by chest_pain_type and the relationship to heart disease being present."
      ]
    },
    {
      "metadata": {
        "id": "HlS3DkejLtLW",
        "colab_type": "code",
        "colab": {
          "base_uri": "https://localhost:8080/",
          "height": 297
        },
        "outputId": "51cb1122-62af-40d9-9e9f-57d3d208bcb2"
      },
      "cell_type": "code",
      "source": [
        "pd.pivot_table(train, index='chest_pain_type', columns= 'heart_disease_present', values= \"serum_cholesterol_mg_per_dl\", aggfunc=np.mean).plot(kind= 'bar')"
      ],
      "execution_count": 25,
      "outputs": [
        {
          "output_type": "execute_result",
          "data": {
            "text/plain": [
              "<matplotlib.axes._subplots.AxesSubplot at 0x7f1984a50630>"
            ]
          },
          "metadata": {
            "tags": []
          },
          "execution_count": 25
        },
        {
          "output_type": "display_data",
          "data": {
            "image/png": "[encoded data removed]",
            "text/plain": [
              "<Figure size 432x288 with 1 Axes>"
            ]
          },
          "metadata": {
            "tags": []
          }
        }
      ]
    },
    {
      "metadata": {
        "id": "nX_8pQkEObYT",
        "colab_type": "code",
        "colab": {
          "base_uri": "https://localhost:8080/",
          "height": 224
        },
        "outputId": "1a918dd4-7752-4a12-8265-90fa6b772c09"
      },
      "cell_type": "code",
      "source": [
        "train[train.select_dtypes(include=['int64', 'float64']).columns].head()"
      ],
      "execution_count": 27,
      "outputs": [
        {
          "output_type": "execute_result",
          "data": {
            "text/html": [
              "<div>\n",
              "<style scoped>\n",
              "    .dataframe tbody tr th:only-of-type {\n",
              "        vertical-align: middle;\n",
              "    }\n",
              "\n",
              "    .dataframe tbody tr th {\n",
              "        vertical-align: top;\n",
              "    }\n",
              "\n",
              "    .dataframe thead th {\n",
              "        text-align: right;\n",
              "    }\n",
              "</style>\n",
              "<table border=\"1\" class=\"dataframe\">\n",
              "  <thead>\n",
              "    <tr style=\"text-align: right;\">\n",
              "      <th></th>\n",
              "      <th>slope_of_peak_exercise_st_segment</th>\n",
              "      <th>resting_blood_pressure</th>\n",
              "      <th>chest_pain_type</th>\n",
              "      <th>num_major_vessels</th>\n",
              "      <th>fasting_blood_sugar_gt_120_mg_per_dl</th>\n",
              "      <th>resting_ekg_results</th>\n",
              "      <th>serum_cholesterol_mg_per_dl</th>\n",
              "      <th>oldpeak_eq_st_depression</th>\n",
              "      <th>sex</th>\n",
              "      <th>age</th>\n",
              "      <th>max_heart_rate_achieved</th>\n",
              "      <th>exercise_induced_angina</th>\n",
              "      <th>heart_disease_present</th>\n",
              "    </tr>\n",
              "  </thead>\n",
              "  <tbody>\n",
              "    <tr>\n",
              "      <th>0</th>\n",
              "      <td>1</td>\n",
              "      <td>128</td>\n",
              "      <td>2</td>\n",
              "      <td>0</td>\n",
              "      <td>0</td>\n",
              "      <td>2</td>\n",
              "      <td>308</td>\n",
              "      <td>0.0</td>\n",
              "      <td>1</td>\n",
              "      <td>45</td>\n",
              "      <td>170</td>\n",
              "      <td>0</td>\n",
              "      <td>0</td>\n",
              "    </tr>\n",
              "    <tr>\n",
              "      <th>1</th>\n",
              "      <td>2</td>\n",
              "      <td>110</td>\n",
              "      <td>3</td>\n",
              "      <td>0</td>\n",
              "      <td>0</td>\n",
              "      <td>0</td>\n",
              "      <td>214</td>\n",
              "      <td>1.6</td>\n",
              "      <td>0</td>\n",
              "      <td>54</td>\n",
              "      <td>158</td>\n",
              "      <td>0</td>\n",
              "      <td>0</td>\n",
              "    </tr>\n",
              "    <tr>\n",
              "      <th>2</th>\n",
              "      <td>1</td>\n",
              "      <td>125</td>\n",
              "      <td>4</td>\n",
              "      <td>3</td>\n",
              "      <td>0</td>\n",
              "      <td>2</td>\n",
              "      <td>304</td>\n",
              "      <td>0.0</td>\n",
              "      <td>1</td>\n",
              "      <td>77</td>\n",
              "      <td>162</td>\n",
              "      <td>1</td>\n",
              "      <td>1</td>\n",
              "    </tr>\n",
              "    <tr>\n",
              "      <th>3</th>\n",
              "      <td>1</td>\n",
              "      <td>152</td>\n",
              "      <td>4</td>\n",
              "      <td>0</td>\n",
              "      <td>0</td>\n",
              "      <td>0</td>\n",
              "      <td>223</td>\n",
              "      <td>0.0</td>\n",
              "      <td>1</td>\n",
              "      <td>40</td>\n",
              "      <td>181</td>\n",
              "      <td>0</td>\n",
              "      <td>1</td>\n",
              "    </tr>\n",
              "    <tr>\n",
              "      <th>4</th>\n",
              "      <td>3</td>\n",
              "      <td>178</td>\n",
              "      <td>1</td>\n",
              "      <td>0</td>\n",
              "      <td>0</td>\n",
              "      <td>2</td>\n",
              "      <td>270</td>\n",
              "      <td>4.2</td>\n",
              "      <td>1</td>\n",
              "      <td>59</td>\n",
              "      <td>145</td>\n",
              "      <td>0</td>\n",
              "      <td>0</td>\n",
              "    </tr>\n",
              "  </tbody>\n",
              "</table>\n",
              "</div>"
            ],
            "text/plain": [
              "   slope_of_peak_exercise_st_segment  resting_blood_pressure  chest_pain_type  \\\n",
              "0                                  1                     128                2   \n",
              "1                                  2                     110                3   \n",
              "2                                  1                     125                4   \n",
              "3                                  1                     152                4   \n",
              "4                                  3                     178                1   \n",
              "\n",
              "   num_major_vessels  fasting_blood_sugar_gt_120_mg_per_dl  \\\n",
              "0                  0                                     0   \n",
              "1                  0                                     0   \n",
              "2                  3                                     0   \n",
              "3                  0                                     0   \n",
              "4                  0                                     0   \n",
              "\n",
              "   resting_ekg_results  serum_cholesterol_mg_per_dl  oldpeak_eq_st_depression  \\\n",
              "0                    2                          308                       0.0   \n",
              "1                    0                          214                       1.6   \n",
              "2                    2                          304                       0.0   \n",
              "3                    0                          223                       0.0   \n",
              "4                    2                          270                       4.2   \n",
              "\n",
              "   sex  age  max_heart_rate_achieved  exercise_induced_angina  \\\n",
              "0    1   45                      170                        0   \n",
              "1    0   54                      158                        0   \n",
              "2    1   77                      162                        1   \n",
              "3    1   40                      181                        0   \n",
              "4    1   59                      145                        0   \n",
              "\n",
              "   heart_disease_present  \n",
              "0                      0  \n",
              "1                      0  \n",
              "2                      1  \n",
              "3                      1  \n",
              "4                      0  "
            ]
          },
          "metadata": {
            "tags": []
          },
          "execution_count": 27
        }
      ]
    },
    {
      "metadata": {
        "id": "WScSye0oOCwR",
        "colab_type": "text"
      },
      "cell_type": "markdown",
      "source": [
        "**Feature transformation**\n",
        "\n"
      ]
    },
    {
      "metadata": {
        "id": "c-41UU9kOayg",
        "colab_type": "code",
        "colab": {
          "base_uri": "https://localhost:8080/",
          "height": 204
        },
        "outputId": "6e5443c3-55e1-4b3a-d480-ae74ea01fbb6"
      },
      "cell_type": "code",
      "source": [
        "train[train.select_dtypes(include=['object']).columns].head()"
      ],
      "execution_count": 28,
      "outputs": [
        {
          "output_type": "execute_result",
          "data": {
            "text/html": [
              "<div>\n",
              "<style scoped>\n",
              "    .dataframe tbody tr th:only-of-type {\n",
              "        vertical-align: middle;\n",
              "    }\n",
              "\n",
              "    .dataframe tbody tr th {\n",
              "        vertical-align: top;\n",
              "    }\n",
              "\n",
              "    .dataframe thead th {\n",
              "        text-align: right;\n",
              "    }\n",
              "</style>\n",
              "<table border=\"1\" class=\"dataframe\">\n",
              "  <thead>\n",
              "    <tr style=\"text-align: right;\">\n",
              "      <th></th>\n",
              "      <th>patient_id</th>\n",
              "      <th>thal</th>\n",
              "    </tr>\n",
              "  </thead>\n",
              "  <tbody>\n",
              "    <tr>\n",
              "      <th>0</th>\n",
              "      <td>0z64un</td>\n",
              "      <td>normal</td>\n",
              "    </tr>\n",
              "    <tr>\n",
              "      <th>1</th>\n",
              "      <td>ryoo3j</td>\n",
              "      <td>normal</td>\n",
              "    </tr>\n",
              "    <tr>\n",
              "      <th>2</th>\n",
              "      <td>yt1s1x</td>\n",
              "      <td>normal</td>\n",
              "    </tr>\n",
              "    <tr>\n",
              "      <th>3</th>\n",
              "      <td>l2xjde</td>\n",
              "      <td>reversible_defect</td>\n",
              "    </tr>\n",
              "    <tr>\n",
              "      <th>4</th>\n",
              "      <td>oyt4ek</td>\n",
              "      <td>reversible_defect</td>\n",
              "    </tr>\n",
              "  </tbody>\n",
              "</table>\n",
              "</div>"
            ],
            "text/plain": [
              "  patient_id               thal\n",
              "0     0z64un             normal\n",
              "1     ryoo3j             normal\n",
              "2     yt1s1x             normal\n",
              "3     l2xjde  reversible_defect\n",
              "4     oyt4ek  reversible_defect"
            ]
          },
          "metadata": {
            "tags": []
          },
          "execution_count": 28
        }
      ]
    },
    {
      "metadata": {
        "id": "Y38UrF4BTBjq",
        "colab_type": "code",
        "colab": {
          "base_uri": "https://localhost:8080/",
          "height": 34
        },
        "outputId": "983f2c5a-819d-42cb-80d1-9c1b0b8f0f44"
      },
      "cell_type": "code",
      "source": [
        "X['thal'].shape"
      ],
      "execution_count": 57,
      "outputs": [
        {
          "output_type": "execute_result",
          "data": {
            "text/plain": [
              "(180,)"
            ]
          },
          "metadata": {
            "tags": []
          },
          "execution_count": 57
        }
      ]
    },
    {
      "metadata": {
        "id": "RA5NiquhPwIx",
        "colab_type": "code",
        "colab": {
          "base_uri": "https://localhost:8080/",
          "height": 34
        },
        "outputId": "52c99326-4df3-4a39-9f8b-174940fd6a27"
      },
      "cell_type": "code",
      "source": [
        "thal_encode = pd.get_dummies(X['thal'])\n",
        "thal_encode.shape"
      ],
      "execution_count": 58,
      "outputs": [
        {
          "output_type": "execute_result",
          "data": {
            "text/plain": [
              "(180, 3)"
            ]
          },
          "metadata": {
            "tags": []
          },
          "execution_count": 58
        }
      ]
    },
    {
      "metadata": {
        "id": "efqtT35ESHL3",
        "colab_type": "code",
        "colab": {
          "base_uri": "https://localhost:8080/",
          "height": 224
        },
        "outputId": "05e46539-8681-4459-fbe3-5ec5d6828e89"
      },
      "cell_type": "code",
      "source": [
        "df = pd.concat([X,thal_encode],axis=1)\n",
        "df.head()"
      ],
      "execution_count": 59,
      "outputs": [
        {
          "output_type": "execute_result",
          "data": {
            "text/html": [
              "<div>\n",
              "<style scoped>\n",
              "    .dataframe tbody tr th:only-of-type {\n",
              "        vertical-align: middle;\n",
              "    }\n",
              "\n",
              "    .dataframe tbody tr th {\n",
              "        vertical-align: top;\n",
              "    }\n",
              "\n",
              "    .dataframe thead th {\n",
              "        text-align: right;\n",
              "    }\n",
              "</style>\n",
              "<table border=\"1\" class=\"dataframe\">\n",
              "  <thead>\n",
              "    <tr style=\"text-align: right;\">\n",
              "      <th></th>\n",
              "      <th>slope_of_peak_exercise_st_segment</th>\n",
              "      <th>thal</th>\n",
              "      <th>resting_blood_pressure</th>\n",
              "      <th>chest_pain_type</th>\n",
              "      <th>num_major_vessels</th>\n",
              "      <th>fasting_blood_sugar_gt_120_mg_per_dl</th>\n",
              "      <th>resting_ekg_results</th>\n",
              "      <th>serum_cholesterol_mg_per_dl</th>\n",
              "      <th>oldpeak_eq_st_depression</th>\n",
              "      <th>sex</th>\n",
              "      <th>age</th>\n",
              "      <th>max_heart_rate_achieved</th>\n",
              "      <th>exercise_induced_angina</th>\n",
              "      <th>fixed_defect</th>\n",
              "      <th>normal</th>\n",
              "      <th>reversible_defect</th>\n",
              "    </tr>\n",
              "  </thead>\n",
              "  <tbody>\n",
              "    <tr>\n",
              "      <th>0</th>\n",
              "      <td>1</td>\n",
              "      <td>normal</td>\n",
              "      <td>128</td>\n",
              "      <td>2</td>\n",
              "      <td>0</td>\n",
              "      <td>0</td>\n",
              "      <td>2</td>\n",
              "      <td>308</td>\n",
              "      <td>0.0</td>\n",
              "      <td>1</td>\n",
              "      <td>45</td>\n",
              "      <td>170</td>\n",
              "      <td>0</td>\n",
              "      <td>0</td>\n",
              "      <td>1</td>\n",
              "      <td>0</td>\n",
              "    </tr>\n",
              "    <tr>\n",
              "      <th>1</th>\n",
              "      <td>2</td>\n",
              "      <td>normal</td>\n",
              "      <td>110</td>\n",
              "      <td>3</td>\n",
              "      <td>0</td>\n",
              "      <td>0</td>\n",
              "      <td>0</td>\n",
              "      <td>214</td>\n",
              "      <td>1.6</td>\n",
              "      <td>0</td>\n",
              "      <td>54</td>\n",
              "      <td>158</td>\n",
              "      <td>0</td>\n",
              "      <td>0</td>\n",
              "      <td>1</td>\n",
              "      <td>0</td>\n",
              "    </tr>\n",
              "    <tr>\n",
              "      <th>2</th>\n",
              "      <td>1</td>\n",
              "      <td>normal</td>\n",
              "      <td>125</td>\n",
              "      <td>4</td>\n",
              "      <td>3</td>\n",
              "      <td>0</td>\n",
              "      <td>2</td>\n",
              "      <td>304</td>\n",
              "      <td>0.0</td>\n",
              "      <td>1</td>\n",
              "      <td>77</td>\n",
              "      <td>162</td>\n",
              "      <td>1</td>\n",
              "      <td>0</td>\n",
              "      <td>1</td>\n",
              "      <td>0</td>\n",
              "    </tr>\n",
              "    <tr>\n",
              "      <th>3</th>\n",
              "      <td>1</td>\n",
              "      <td>reversible_defect</td>\n",
              "      <td>152</td>\n",
              "      <td>4</td>\n",
              "      <td>0</td>\n",
              "      <td>0</td>\n",
              "      <td>0</td>\n",
              "      <td>223</td>\n",
              "      <td>0.0</td>\n",
              "      <td>1</td>\n",
              "      <td>40</td>\n",
              "      <td>181</td>\n",
              "      <td>0</td>\n",
              "      <td>0</td>\n",
              "      <td>0</td>\n",
              "      <td>1</td>\n",
              "    </tr>\n",
              "    <tr>\n",
              "      <th>4</th>\n",
              "      <td>3</td>\n",
              "      <td>reversible_defect</td>\n",
              "      <td>178</td>\n",
              "      <td>1</td>\n",
              "      <td>0</td>\n",
              "      <td>0</td>\n",
              "      <td>2</td>\n",
              "      <td>270</td>\n",
              "      <td>4.2</td>\n",
              "      <td>1</td>\n",
              "      <td>59</td>\n",
              "      <td>145</td>\n",
              "      <td>0</td>\n",
              "      <td>0</td>\n",
              "      <td>0</td>\n",
              "      <td>1</td>\n",
              "    </tr>\n",
              "  </tbody>\n",
              "</table>\n",
              "</div>"
            ],
            "text/plain": [
              "   slope_of_peak_exercise_st_segment               thal  \\\n",
              "0                                  1             normal   \n",
              "1                                  2             normal   \n",
              "2                                  1             normal   \n",
              "3                                  1  reversible_defect   \n",
              "4                                  3  reversible_defect   \n",
              "\n",
              "   resting_blood_pressure  chest_pain_type  num_major_vessels  \\\n",
              "0                     128                2                  0   \n",
              "1                     110                3                  0   \n",
              "2                     125                4                  3   \n",
              "3                     152                4                  0   \n",
              "4                     178                1                  0   \n",
              "\n",
              "   fasting_blood_sugar_gt_120_mg_per_dl  resting_ekg_results  \\\n",
              "0                                     0                    2   \n",
              "1                                     0                    0   \n",
              "2                                     0                    2   \n",
              "3                                     0                    0   \n",
              "4                                     0                    2   \n",
              "\n",
              "   serum_cholesterol_mg_per_dl  oldpeak_eq_st_depression  sex  age  \\\n",
              "0                          308                       0.0    1   45   \n",
              "1                          214                       1.6    0   54   \n",
              "2                          304                       0.0    1   77   \n",
              "3                          223                       0.0    1   40   \n",
              "4                          270                       4.2    1   59   \n",
              "\n",
              "   max_heart_rate_achieved  exercise_induced_angina  fixed_defect  normal  \\\n",
              "0                      170                        0             0       1   \n",
              "1                      158                        0             0       1   \n",
              "2                      162                        1             0       1   \n",
              "3                      181                        0             0       0   \n",
              "4                      145                        0             0       0   \n",
              "\n",
              "   reversible_defect  \n",
              "0                  0  \n",
              "1                  0  \n",
              "2                  0  \n",
              "3                  1  \n",
              "4                  1  "
            ]
          },
          "metadata": {
            "tags": []
          },
          "execution_count": 59
        }
      ]
    },
    {
      "metadata": {
        "id": "UNvDCBMzVWw2",
        "colab_type": "code",
        "colab": {
          "base_uri": "https://localhost:8080/",
          "height": 34
        },
        "outputId": "d52e093e-2376-459c-8681-7d187a1166ac"
      },
      "cell_type": "code",
      "source": [
        "df.shape"
      ],
      "execution_count": 60,
      "outputs": [
        {
          "output_type": "execute_result",
          "data": {
            "text/plain": [
              "(180, 16)"
            ]
          },
          "metadata": {
            "tags": []
          },
          "execution_count": 60
        }
      ]
    },
    {
      "metadata": {
        "id": "0d0QMvXBVY2-",
        "colab_type": "code",
        "colab": {
          "base_uri": "https://localhost:8080/",
          "height": 34
        },
        "outputId": "e1e98527-e000-469b-e90a-4c39ac3fe373"
      },
      "cell_type": "code",
      "source": [
        "df.isnull().sum()[df.isnull().sum() !=0]"
      ],
      "execution_count": 62,
      "outputs": [
        {
          "output_type": "execute_result",
          "data": {
            "text/plain": [
              "Series([], dtype: int64)"
            ]
          },
          "metadata": {
            "tags": []
          },
          "execution_count": 62
        }
      ]
    },
    {
      "metadata": {
        "id": "LLUOfwufX0Mj",
        "colab_type": "code",
        "colab": {
          "base_uri": "https://localhost:8080/",
          "height": 374
        },
        "outputId": "7145e475-f485-43a6-e524-d3c9013f8fd7"
      },
      "cell_type": "code",
      "source": [
        "df.info()"
      ],
      "execution_count": 63,
      "outputs": [
        {
          "output_type": "stream",
          "text": [
            "<class 'pandas.core.frame.DataFrame'>\n",
            "Int64Index: 180 entries, 0 to 179\n",
            "Data columns (total 16 columns):\n",
            "slope_of_peak_exercise_st_segment       180 non-null int64\n",
            "thal                                    180 non-null object\n",
            "resting_blood_pressure                  180 non-null int64\n",
            "chest_pain_type                         180 non-null int64\n",
            "num_major_vessels                       180 non-null int64\n",
            "fasting_blood_sugar_gt_120_mg_per_dl    180 non-null int64\n",
            "resting_ekg_results                     180 non-null int64\n",
            "serum_cholesterol_mg_per_dl             180 non-null int64\n",
            "oldpeak_eq_st_depression                180 non-null float64\n",
            "sex                                     180 non-null int64\n",
            "age                                     180 non-null int64\n",
            "max_heart_rate_achieved                 180 non-null int64\n",
            "exercise_induced_angina                 180 non-null int64\n",
            "fixed_defect                            180 non-null uint8\n",
            "normal                                  180 non-null uint8\n",
            "reversible_defect                       180 non-null uint8\n",
            "dtypes: float64(1), int64(11), object(1), uint8(3)\n",
            "memory usage: 25.2+ KB\n"
          ],
          "name": "stdout"
        }
      ]
    },
    {
      "metadata": {
        "id": "qJ4bGbLsbfEC",
        "colab_type": "code",
        "colab": {
          "base_uri": "https://localhost:8080/",
          "height": 357
        },
        "outputId": "e22eda14-3233-411e-da9c-2859249231e6"
      },
      "cell_type": "code",
      "source": [
        "df = df.drop('thal',axis=1)\n",
        "df.info()"
      ],
      "execution_count": 64,
      "outputs": [
        {
          "output_type": "stream",
          "text": [
            "<class 'pandas.core.frame.DataFrame'>\n",
            "Int64Index: 180 entries, 0 to 179\n",
            "Data columns (total 15 columns):\n",
            "slope_of_peak_exercise_st_segment       180 non-null int64\n",
            "resting_blood_pressure                  180 non-null int64\n",
            "chest_pain_type                         180 non-null int64\n",
            "num_major_vessels                       180 non-null int64\n",
            "fasting_blood_sugar_gt_120_mg_per_dl    180 non-null int64\n",
            "resting_ekg_results                     180 non-null int64\n",
            "serum_cholesterol_mg_per_dl             180 non-null int64\n",
            "oldpeak_eq_st_depression                180 non-null float64\n",
            "sex                                     180 non-null int64\n",
            "age                                     180 non-null int64\n",
            "max_heart_rate_achieved                 180 non-null int64\n",
            "exercise_induced_angina                 180 non-null int64\n",
            "fixed_defect                            180 non-null uint8\n",
            "normal                                  180 non-null uint8\n",
            "reversible_defect                       180 non-null uint8\n",
            "dtypes: float64(1), int64(11), uint8(3)\n",
            "memory usage: 23.8 KB\n"
          ],
          "name": "stdout"
        }
      ]
    },
    {
      "metadata": {
        "id": "bHz_dCTkcJti",
        "colab_type": "text"
      },
      "cell_type": "markdown",
      "source": [
        "**Machine Learning using Random Forest Classifier**"
      ]
    },
    {
      "metadata": {
        "id": "tjyL3_QzcQLT",
        "colab_type": "code",
        "colab": {}
      },
      "cell_type": "code",
      "source": [
        "from sklearn.ensemble import RandomForestClassifier\n",
        "from sklearn.model_selection import GridSearchCV\n",
        "from sklearn.model_selection import train_test_split\n",
        "from sklearn.model_selection import cross_val_score"
      ],
      "execution_count": 0,
      "outputs": []
    },
    {
      "metadata": {
        "id": "L1lRrcZCdvKM",
        "colab_type": "code",
        "colab": {
          "base_uri": "https://localhost:8080/",
          "height": 51
        },
        "outputId": "44daea42-d8de-4799-e008-0c0568092960"
      },
      "cell_type": "code",
      "source": [
        "X_train,X_test,y_train,y_test = train_test_split(df,Y,test_size=0.2,random_state=1)\n",
        "print(X_train.shape,X_test.shape)\n",
        "print(y_train.shape,y_test.shape)"
      ],
      "execution_count": 146,
      "outputs": [
        {
          "output_type": "stream",
          "text": [
            "(144, 15) (36, 15)\n",
            "(144,) (36,)\n"
          ],
          "name": "stdout"
        }
      ]
    },
    {
      "metadata": {
        "id": "GlGgfseSfzWS",
        "colab_type": "code",
        "colab": {
          "base_uri": "https://localhost:8080/",
          "height": 690
        },
        "outputId": "9425cd07-6a06-4fb2-f5f9-3dca8bcf0cba"
      },
      "cell_type": "code",
      "source": [
        "corr = df.corr(method='pearson')\n",
        "plt.figure(figsize=(11,8))\n",
        "sns.heatmap(corr,annot=True)"
      ],
      "execution_count": 70,
      "outputs": [
        {
          "output_type": "execute_result",
          "data": {
            "text/plain": [
              "<matplotlib.axes._subplots.AxesSubplot at 0x7f1981656780>"
            ]
          },
          "metadata": {
            "tags": []
          },
          "execution_count": 70
        },
        {
          "output_type": "display_data",
          "data": {
            "image/png": "[encoded data removed]",
            "text/plain": [
              "<Figure size 792x576 with 2 Axes>"
            ]
          },
          "metadata": {
            "tags": []
          }
        }
      ]
    },
    {
      "metadata": {
        "id": "eTHnQlyni1pM",
        "colab_type": "text"
      },
      "cell_type": "markdown",
      "source": [
        "**Build the model**"
      ]
    },
    {
      "metadata": {
        "id": "kKFDXCPFi5Xa",
        "colab_type": "code",
        "colab": {}
      },
      "cell_type": "code",
      "source": [
        "rf = RandomForestClassifier(random_state=1)"
      ],
      "execution_count": 0,
      "outputs": []
    },
    {
      "metadata": {
        "id": "2E1ZaHYXjWxs",
        "colab_type": "code",
        "colab": {}
      },
      "cell_type": "code",
      "source": [
        "param_grid = {'n_estimators':[10,50,100,150,200],\n",
        "             'max_depth':[4,6,8,10],\n",
        "             'max_features': ['auto', 'sqrt', 'log2'],\n",
        "             'criterion' :['gini', 'entropy']}"
      ],
      "execution_count": 0,
      "outputs": []
    },
    {
      "metadata": {
        "id": "TZaVO8ShmFrF",
        "colab_type": "code",
        "colab": {
          "base_uri": "https://localhost:8080/",
          "height": 258
        },
        "outputId": "1bb2e1cd-4858-43e5-826a-30e4c98f0e6d"
      },
      "cell_type": "code",
      "source": [
        "cv_rf = GridSearchCV(estimator=rf,param_grid=param_grid,cv=5)\n",
        "cv_rf.fit(X_train,y_train)"
      ],
      "execution_count": 79,
      "outputs": [
        {
          "output_type": "stream",
          "text": [
            "/usr/local/lib/python3.6/dist-packages/sklearn/model_selection/_search.py:841: DeprecationWarning: The default of the `iid` parameter will change from True to False in version 0.22 and will be removed in 0.24. This will change numeric results when test-set sizes are unequal.\n",
            "  DeprecationWarning)\n"
          ],
          "name": "stderr"
        },
        {
          "output_type": "execute_result",
          "data": {
            "text/plain": [
              "GridSearchCV(cv=5, error_score='raise-deprecating',\n",
              "       estimator=RandomForestClassifier(bootstrap=True, class_weight=None, criterion='gini',\n",
              "            max_depth=None, max_features='auto', max_leaf_nodes=None,\n",
              "            min_impurity_decrease=0.0, min_impurity_split=None,\n",
              "            min_samples_leaf=1, min_samples_split=2,\n",
              "            min_weight_fraction_leaf=0.0, n_estimators='warn', n_jobs=None,\n",
              "            oob_score=False, random_state=1, verbose=0, warm_start=False),\n",
              "       fit_params=None, iid='warn', n_jobs=None,\n",
              "       param_grid={'n_estimators': [10, 50, 100, 150, 200], 'max_depth': [4, 6, 8, 10], 'max_features': ['auto', 'sqrt', 'log2'], 'criterion': ['gini', 'entropy']},\n",
              "       pre_dispatch='2*n_jobs', refit=True, return_train_score='warn',\n",
              "       scoring=None, verbose=0)"
            ]
          },
          "metadata": {
            "tags": []
          },
          "execution_count": 79
        }
      ]
    },
    {
      "metadata": {
        "id": "gHai1WWaplqe",
        "colab_type": "code",
        "colab": {
          "base_uri": "https://localhost:8080/",
          "height": 85
        },
        "outputId": "908e6928-e9d1-49f5-faf2-6ec20bdfdad1"
      },
      "cell_type": "code",
      "source": [
        "cv_rf.best_params_"
      ],
      "execution_count": 81,
      "outputs": [
        {
          "output_type": "execute_result",
          "data": {
            "text/plain": [
              "{'criterion': 'entropy',\n",
              " 'max_depth': 6,\n",
              " 'max_features': 'auto',\n",
              " 'n_estimators': 100}"
            ]
          },
          "metadata": {
            "tags": []
          },
          "execution_count": 81
        }
      ]
    },
    {
      "metadata": {
        "id": "VfgyeutppveU",
        "colab_type": "code",
        "colab": {}
      },
      "cell_type": "code",
      "source": [
        "rf = RandomForestClassifier(n_estimators=100,max_depth=6,criterion='entropy',max_features='auto',random_state=1)"
      ],
      "execution_count": 0,
      "outputs": []
    },
    {
      "metadata": {
        "id": "d7-hJ-H-qIHO",
        "colab_type": "code",
        "colab": {}
      },
      "cell_type": "code",
      "source": [
        "rf.fit(X_train,y_train)\n",
        "y_pred = rf.predict(X_test)\n",
        "y_pred_proba = rf.predict_proba(X_test)"
      ],
      "execution_count": 0,
      "outputs": []
    },
    {
      "metadata": {
        "id": "KjOP8CprrgP9",
        "colab_type": "code",
        "colab": {
          "base_uri": "https://localhost:8080/",
          "height": 34
        },
        "outputId": "a6b99d45-12aa-47ce-c9a2-2977f192fed5"
      },
      "cell_type": "code",
      "source": [
        "from sklearn.metrics import accuracy_score,classification_report,f1_score\n",
        "print(accuracy_score(y_test,y_pred))"
      ],
      "execution_count": 89,
      "outputs": [
        {
          "output_type": "stream",
          "text": [
            "0.75\n"
          ],
          "name": "stdout"
        }
      ]
    },
    {
      "metadata": {
        "id": "4gsrCK7gvziS",
        "colab_type": "code",
        "colab": {}
      },
      "cell_type": "code",
      "source": [
        "from sklearn.linear_model import SGDClassifier\n",
        "from sklearn.ensemble import GradientBoostingClassifier\n",
        "from sklearn.ensemble import AdaBoostClassifier\n",
        "from sklearn.ensemble import RandomForestClassifier\n",
        "from sklearn.ensemble import ExtraTreesClassifier\n",
        "from sklearn.pipeline import Pipeline\n",
        "from sklearn.model_selection import train_test_split,KFold,cross_val_score\n",
        "#\n",
        "import warnings\n",
        "warnings.filterwarnings(\"ignore\")"
      ],
      "execution_count": 0,
      "outputs": []
    },
    {
      "metadata": {
        "id": "vAPh5a2KwpZk",
        "colab_type": "code",
        "colab": {
          "base_uri": "https://localhost:8080/",
          "height": 221
        },
        "outputId": "20b2e446-2c99-4f38-8396-3c32a8ae684b"
      },
      "cell_type": "code",
      "source": [
        "# Compare Algorithms\n",
        "\n",
        "pipelines = []\n",
        "pipelines.append((\"AB\",\n",
        "                  Pipeline([(\"AB\", AdaBoostClassifier())])))\n",
        "pipelines.append((\"GBM\",\n",
        "                  Pipeline([(\"GBM\", GradientBoostingClassifier())])))\n",
        "pipelines.append((\"RF\",\n",
        "                  Pipeline([(\"RF\", RandomForestClassifier())])))\n",
        "pipelines.append((\"ET\",\n",
        "                  Pipeline([(\"ET\", ExtraTreesClassifier())])))\n",
        "\n",
        "results = []\n",
        "names = []\n",
        "num_folds = 10\n",
        "#\n",
        "for name,model in pipelines:\n",
        "    kfold = KFold(n_splits = num_folds,random_state=1)\n",
        "    cv_results = cross_val_score(model,X_train,y_train,cv=kfold,scoring='accuracy')\n",
        "    results.append(cv_results)\n",
        "    names.append(name)\n",
        "    print(\"Training Accuracy\")\n",
        "    print('='*80)\n",
        "    msg = f\"{name} - results(mean) : {cv_results.mean():f} -results(std): {cv_results.std():f}\"\n",
        "    print(msg)"
      ],
      "execution_count": 97,
      "outputs": [
        {
          "output_type": "stream",
          "text": [
            "Training Accuracy\n",
            "================================================================================\n",
            "AB - results(mean) : 0.765238 -results(std): 0.091226\n",
            "Training Accuracy\n",
            "================================================================================\n",
            "GBM - results(mean) : 0.820952 -results(std): 0.085136\n",
            "Training Accuracy\n",
            "================================================================================\n",
            "RF - results(mean) : 0.792381 -results(std): 0.078368\n",
            "Training Accuracy\n",
            "================================================================================\n",
            "ET - results(mean) : 0.751429 -results(std): 0.154389\n"
          ],
          "name": "stdout"
        }
      ]
    },
    {
      "metadata": {
        "id": "R5JVDdcOxcIk",
        "colab_type": "text"
      },
      "cell_type": "markdown",
      "source": [
        "**The best classifier  as determined above - GradientBoostingClassifier**"
      ]
    },
    {
      "metadata": {
        "id": "GFepsIg3xgxv",
        "colab_type": "code",
        "colab": {}
      },
      "cell_type": "code",
      "source": [
        "gbm = GradientBoostingClassifier(random_state=1)\n",
        "param_grid = {'n_estimators':[10,50,100,150,200],\n",
        "             'max_depth':[4,6,8,10],\n",
        "             'max_features': ['auto', 'sqrt', 'log2']}"
      ],
      "execution_count": 0,
      "outputs": []
    },
    {
      "metadata": {
        "id": "f7-bDEnVx5BG",
        "colab_type": "code",
        "colab": {
          "base_uri": "https://localhost:8080/",
          "height": 224
        },
        "outputId": "eea78747-29a8-44f0-ca22-d6be1cfeaff6"
      },
      "cell_type": "code",
      "source": [
        "gbm_cv = GridSearchCV(estimator = gbm,param_grid=param_grid,cv=5)\n",
        "gbm_cv.fit(X_train,y_train)"
      ],
      "execution_count": 99,
      "outputs": [
        {
          "output_type": "execute_result",
          "data": {
            "text/plain": [
              "GridSearchCV(cv=5, error_score='raise-deprecating',\n",
              "       estimator=GradientBoostingClassifier(criterion='friedman_mse', init=None,\n",
              "              learning_rate=0.1, loss='deviance', max_depth=3,\n",
              "              max_features=None, max_leaf_nodes=None,\n",
              "              min_impurity_decrease=0.0, min_impurity_split=None,\n",
              "              min_samples_leaf=1, min_sampl...      subsample=1.0, tol=0.0001, validation_fraction=0.1,\n",
              "              verbose=0, warm_start=False),\n",
              "       fit_params=None, iid='warn', n_jobs=None,\n",
              "       param_grid={'n_estimators': [10, 50, 100, 150, 200], 'max_depth': [4, 6, 8, 10], 'max_features': ['auto', 'sqrt', 'log2']},\n",
              "       pre_dispatch='2*n_jobs', refit=True, return_train_score='warn',\n",
              "       scoring=None, verbose=0)"
            ]
          },
          "metadata": {
            "tags": []
          },
          "execution_count": 99
        }
      ]
    },
    {
      "metadata": {
        "id": "wAf1flTSyU7-",
        "colab_type": "code",
        "colab": {
          "base_uri": "https://localhost:8080/",
          "height": 34
        },
        "outputId": "0811c45a-5c15-4769-b5b9-0e1ae58225ad"
      },
      "cell_type": "code",
      "source": [
        "gbm_cv.best_params_"
      ],
      "execution_count": 101,
      "outputs": [
        {
          "output_type": "execute_result",
          "data": {
            "text/plain": [
              "{'max_depth': 4, 'max_features': 'sqrt', 'n_estimators': 10}"
            ]
          },
          "metadata": {
            "tags": []
          },
          "execution_count": 101
        }
      ]
    },
    {
      "metadata": {
        "id": "wgmSdbg3ycOe",
        "colab_type": "code",
        "colab": {}
      },
      "cell_type": "code",
      "source": [
        "gbm = GradientBoostingClassifier(max_depth= 4, max_features= 'sqrt', n_estimators=10,random_state=10)\n",
        "gbm.fit(X_train,y_train)\n",
        "y_pred_gbm = gbm.predict(X_test)\n",
        "y_pred_proba_gbm = gbm.predict_proba(X_test)"
      ],
      "execution_count": 0,
      "outputs": []
    },
    {
      "metadata": {
        "id": "TQH87qfxy_I2",
        "colab_type": "code",
        "colab": {
          "base_uri": "https://localhost:8080/",
          "height": 34
        },
        "outputId": "96a2b29d-65e7-428c-e803-35a034fd92a0"
      },
      "cell_type": "code",
      "source": [
        "print(accuracy_score(y_test,y_pred_gbm))"
      ],
      "execution_count": 103,
      "outputs": [
        {
          "output_type": "stream",
          "text": [
            "0.7777777777777778\n"
          ],
          "name": "stdout"
        }
      ]
    },
    {
      "metadata": {
        "id": "AtN6qsbNzVGv",
        "colab_type": "code",
        "colab": {}
      },
      "cell_type": "code",
      "source": [
        "from sklearn.linear_model import LogisticRegression\n",
        "kfold = KFold(n_splits = num_folds,random_state=1)\n",
        "cv_results = cross_val_score(LogisticRegression(),X_train,y_train,cv=kfold,scoring='accuracy')"
      ],
      "execution_count": 0,
      "outputs": []
    },
    {
      "metadata": {
        "id": "PWBo48KvzpIO",
        "colab_type": "code",
        "colab": {
          "base_uri": "https://localhost:8080/",
          "height": 51
        },
        "outputId": "4a4154f7-7393-47df-c6db-cc532751a32a"
      },
      "cell_type": "code",
      "source": [
        "cv_results"
      ],
      "execution_count": 110,
      "outputs": [
        {
          "output_type": "execute_result",
          "data": {
            "text/plain": [
              "array([0.8       , 0.6       , 0.73333333, 0.93333333, 0.85714286,\n",
              "       0.85714286, 1.        , 0.71428571, 1.        , 0.92857143])"
            ]
          },
          "metadata": {
            "tags": []
          },
          "execution_count": 110
        }
      ]
    },
    {
      "metadata": {
        "id": "3XClwycN0TUG",
        "colab_type": "code",
        "colab": {
          "base_uri": "https://localhost:8080/",
          "height": 34
        },
        "outputId": "9308e7a7-0757-4737-9147-24ea57dde186"
      },
      "cell_type": "code",
      "source": [
        "print(\"Accuracy: %0.2f (+/- %0.2f)\" % (cv_results.mean(), cv_results.std() * 2))"
      ],
      "execution_count": 111,
      "outputs": [
        {
          "output_type": "stream",
          "text": [
            "Accuracy: 0.84 (+/- 0.25)\n"
          ],
          "name": "stdout"
        }
      ]
    },
    {
      "metadata": {
        "id": "nc-Udjyr0ckp",
        "colab_type": "code",
        "colab": {}
      },
      "cell_type": "code",
      "source": [
        "from sklearn.model_selection import cross_val_predict\n",
        "y_pred_proba = cross_val_predict(LogisticRegression(), X_test, y_test, cv=3,method='predict_proba')"
      ],
      "execution_count": 0,
      "outputs": []
    },
    {
      "metadata": {
        "id": "L3CeCkDn2HK9",
        "colab_type": "code",
        "colab": {}
      },
      "cell_type": "code",
      "source": [
        "y_pred = cross_val_predict(LogisticRegression(), X_test, y_test, cv=3,method='predict')"
      ],
      "execution_count": 0,
      "outputs": []
    },
    {
      "metadata": {
        "id": "tsh6xljf06aS",
        "colab_type": "code",
        "colab": {
          "base_uri": "https://localhost:8080/",
          "height": 34
        },
        "outputId": "d0ca5b61-5087-4e4e-fb30-95f4c9abd68a"
      },
      "cell_type": "code",
      "source": [
        "print(accuracy_score(y_test,y_pred))"
      ],
      "execution_count": 121,
      "outputs": [
        {
          "output_type": "stream",
          "text": [
            "0.7777777777777778\n"
          ],
          "name": "stdout"
        }
      ]
    },
    {
      "metadata": {
        "id": "UFyxYvYmD_NR",
        "colab_type": "text"
      },
      "cell_type": "markdown",
      "source": [
        "**Using XGBOOSTClassifier Boosting Method of Ensemble model**"
      ]
    },
    {
      "metadata": {
        "id": "jOtmMGHED-n9",
        "colab_type": "code",
        "colab": {}
      },
      "cell_type": "code",
      "source": [
        "from xgboost.sklearn import XGBClassifier\n",
        "#set the parameters for the xgbosst model\n",
        "params = {\n",
        "    'objective': 'binary:logistic',\n",
        "    'max_depth': 2,\n",
        "    'class':2,\n",
        "    'learning_rate': 1.0,\n",
        "    #'silent': 1.0,\n",
        "    'n_estimators': 5\n",
        "}\n",
        "params['eval_metric'] = ['logloss', 'auc']"
      ],
      "execution_count": 0,
      "outputs": []
    },
    {
      "metadata": {
        "id": "XNkYbHxUEmgx",
        "colab_type": "code",
        "colab": {}
      },
      "cell_type": "code",
      "source": [
        "xgbst = XGBClassifier(**params).fit(X_train,y_train)"
      ],
      "execution_count": 0,
      "outputs": []
    },
    {
      "metadata": {
        "id": "FHO45QzKFqgY",
        "colab_type": "code",
        "colab": {}
      },
      "cell_type": "code",
      "source": [
        "y_pred_xgboost = xgbst.predict(X_test)"
      ],
      "execution_count": 0,
      "outputs": []
    },
    {
      "metadata": {
        "id": "-Kfqa3qiF-xK",
        "colab_type": "code",
        "colab": {
          "base_uri": "https://localhost:8080/",
          "height": 51
        },
        "outputId": "b75b0f0a-0da2-4191-f316-9b86cb884868"
      },
      "cell_type": "code",
      "source": [
        "y_pred_xgboost"
      ],
      "execution_count": 155,
      "outputs": [
        {
          "output_type": "execute_result",
          "data": {
            "text/plain": [
              "array([1, 1, 0, 1, 0, 0, 1, 0, 1, 1, 0, 1, 0, 0, 1, 1, 1, 0, 0, 0, 0, 0,\n",
              "       0, 0, 1, 0, 1, 1, 1, 1, 0, 0, 1, 0, 0, 1])"
            ]
          },
          "metadata": {
            "tags": []
          },
          "execution_count": 155
        }
      ]
    },
    {
      "metadata": {
        "id": "PXivKdEnFxGC",
        "colab_type": "code",
        "colab": {
          "base_uri": "https://localhost:8080/",
          "height": 204
        },
        "outputId": "2e6ad575-dff1-40cc-8195-6b4764b2a535"
      },
      "cell_type": "code",
      "source": [
        "print(\"Accuracy score:\", accuracy_score(y_test, y_pred_xgboost))\n",
        "print(\"Classification report\")\n",
        "print(classification_report(y_test, y_pred_xgboost))"
      ],
      "execution_count": 154,
      "outputs": [
        {
          "output_type": "stream",
          "text": [
            "Accuracy score: 0.8055555555555556\n",
            "Classification report\n",
            "              precision    recall  f1-score   support\n",
            "\n",
            "           0       0.84      0.80      0.82        20\n",
            "           1       0.76      0.81      0.79        16\n",
            "\n",
            "   micro avg       0.81      0.81      0.81        36\n",
            "   macro avg       0.80      0.81      0.80        36\n",
            "weighted avg       0.81      0.81      0.81        36\n",
            "\n"
          ],
          "name": "stdout"
        }
      ]
    },
    {
      "metadata": {
        "id": "Polg1qBRGLna",
        "colab_type": "code",
        "colab": {}
      },
      "cell_type": "code",
      "source": [
        "xgbst_proba = xgbst.predict_proba(X_test)"
      ],
      "execution_count": 0,
      "outputs": []
    },
    {
      "metadata": {
        "id": "-q0tsYGbzOEs",
        "colab_type": "text"
      },
      "cell_type": "markdown",
      "source": [
        "**Generating Labels for test Data**"
      ]
    },
    {
      "metadata": {
        "id": "Ulq52qlC3AI9",
        "colab_type": "code",
        "colab": {}
      },
      "cell_type": "code",
      "source": [
        "df_test= pd.read_csv('test_values.csv')"
      ],
      "execution_count": 0,
      "outputs": []
    },
    {
      "metadata": {
        "id": "m0QM3P-73Ote",
        "colab_type": "code",
        "colab": {
          "base_uri": "https://localhost:8080/",
          "height": 224
        },
        "outputId": "e1ee6511-d59d-402d-8f12-e0a2e6983bfc"
      },
      "cell_type": "code",
      "source": [
        "df_test.head()"
      ],
      "execution_count": 125,
      "outputs": [
        {
          "output_type": "execute_result",
          "data": {
            "text/html": [
              "<div>\n",
              "<style scoped>\n",
              "    .dataframe tbody tr th:only-of-type {\n",
              "        vertical-align: middle;\n",
              "    }\n",
              "\n",
              "    .dataframe tbody tr th {\n",
              "        vertical-align: top;\n",
              "    }\n",
              "\n",
              "    .dataframe thead th {\n",
              "        text-align: right;\n",
              "    }\n",
              "</style>\n",
              "<table border=\"1\" class=\"dataframe\">\n",
              "  <thead>\n",
              "    <tr style=\"text-align: right;\">\n",
              "      <th></th>\n",
              "      <th>patient_id</th>\n",
              "      <th>slope_of_peak_exercise_st_segment</th>\n",
              "      <th>thal</th>\n",
              "      <th>resting_blood_pressure</th>\n",
              "      <th>chest_pain_type</th>\n",
              "      <th>num_major_vessels</th>\n",
              "      <th>fasting_blood_sugar_gt_120_mg_per_dl</th>\n",
              "      <th>resting_ekg_results</th>\n",
              "      <th>serum_cholesterol_mg_per_dl</th>\n",
              "      <th>oldpeak_eq_st_depression</th>\n",
              "      <th>sex</th>\n",
              "      <th>age</th>\n",
              "      <th>max_heart_rate_achieved</th>\n",
              "      <th>exercise_induced_angina</th>\n",
              "    </tr>\n",
              "  </thead>\n",
              "  <tbody>\n",
              "    <tr>\n",
              "      <th>0</th>\n",
              "      <td>olalu7</td>\n",
              "      <td>2</td>\n",
              "      <td>reversible_defect</td>\n",
              "      <td>170</td>\n",
              "      <td>1</td>\n",
              "      <td>0</td>\n",
              "      <td>0</td>\n",
              "      <td>2</td>\n",
              "      <td>288</td>\n",
              "      <td>0.2</td>\n",
              "      <td>1</td>\n",
              "      <td>59</td>\n",
              "      <td>159</td>\n",
              "      <td>0</td>\n",
              "    </tr>\n",
              "    <tr>\n",
              "      <th>1</th>\n",
              "      <td>z9n6mx</td>\n",
              "      <td>1</td>\n",
              "      <td>normal</td>\n",
              "      <td>138</td>\n",
              "      <td>4</td>\n",
              "      <td>0</td>\n",
              "      <td>0</td>\n",
              "      <td>0</td>\n",
              "      <td>183</td>\n",
              "      <td>1.4</td>\n",
              "      <td>0</td>\n",
              "      <td>35</td>\n",
              "      <td>182</td>\n",
              "      <td>0</td>\n",
              "    </tr>\n",
              "    <tr>\n",
              "      <th>2</th>\n",
              "      <td>5k4413</td>\n",
              "      <td>2</td>\n",
              "      <td>reversible_defect</td>\n",
              "      <td>120</td>\n",
              "      <td>4</td>\n",
              "      <td>0</td>\n",
              "      <td>0</td>\n",
              "      <td>2</td>\n",
              "      <td>177</td>\n",
              "      <td>2.5</td>\n",
              "      <td>1</td>\n",
              "      <td>43</td>\n",
              "      <td>120</td>\n",
              "      <td>1</td>\n",
              "    </tr>\n",
              "    <tr>\n",
              "      <th>3</th>\n",
              "      <td>mrg7q5</td>\n",
              "      <td>1</td>\n",
              "      <td>normal</td>\n",
              "      <td>102</td>\n",
              "      <td>3</td>\n",
              "      <td>1</td>\n",
              "      <td>0</td>\n",
              "      <td>0</td>\n",
              "      <td>318</td>\n",
              "      <td>0.0</td>\n",
              "      <td>0</td>\n",
              "      <td>60</td>\n",
              "      <td>160</td>\n",
              "      <td>0</td>\n",
              "    </tr>\n",
              "    <tr>\n",
              "      <th>4</th>\n",
              "      <td>uki4do</td>\n",
              "      <td>2</td>\n",
              "      <td>normal</td>\n",
              "      <td>138</td>\n",
              "      <td>4</td>\n",
              "      <td>1</td>\n",
              "      <td>0</td>\n",
              "      <td>2</td>\n",
              "      <td>166</td>\n",
              "      <td>3.6</td>\n",
              "      <td>1</td>\n",
              "      <td>61</td>\n",
              "      <td>125</td>\n",
              "      <td>1</td>\n",
              "    </tr>\n",
              "  </tbody>\n",
              "</table>\n",
              "</div>"
            ],
            "text/plain": [
              "  patient_id  slope_of_peak_exercise_st_segment               thal  \\\n",
              "0     olalu7                                  2  reversible_defect   \n",
              "1     z9n6mx                                  1             normal   \n",
              "2     5k4413                                  2  reversible_defect   \n",
              "3     mrg7q5                                  1             normal   \n",
              "4     uki4do                                  2             normal   \n",
              "\n",
              "   resting_blood_pressure  chest_pain_type  num_major_vessels  \\\n",
              "0                     170                1                  0   \n",
              "1                     138                4                  0   \n",
              "2                     120                4                  0   \n",
              "3                     102                3                  1   \n",
              "4                     138                4                  1   \n",
              "\n",
              "   fasting_blood_sugar_gt_120_mg_per_dl  resting_ekg_results  \\\n",
              "0                                     0                    2   \n",
              "1                                     0                    0   \n",
              "2                                     0                    2   \n",
              "3                                     0                    0   \n",
              "4                                     0                    2   \n",
              "\n",
              "   serum_cholesterol_mg_per_dl  oldpeak_eq_st_depression  sex  age  \\\n",
              "0                          288                       0.2    1   59   \n",
              "1                          183                       1.4    0   35   \n",
              "2                          177                       2.5    1   43   \n",
              "3                          318                       0.0    0   60   \n",
              "4                          166                       3.6    1   61   \n",
              "\n",
              "   max_heart_rate_achieved  exercise_induced_angina  \n",
              "0                      159                        0  \n",
              "1                      182                        0  \n",
              "2                      120                        1  \n",
              "3                      160                        0  \n",
              "4                      125                        1  "
            ]
          },
          "metadata": {
            "tags": []
          },
          "execution_count": 125
        }
      ]
    },
    {
      "metadata": {
        "id": "8Lq68BFd3oko",
        "colab_type": "code",
        "colab": {
          "base_uri": "https://localhost:8080/",
          "height": 34
        },
        "outputId": "af3e7078-9226-4891-f633-13539ff68fa6"
      },
      "cell_type": "code",
      "source": [
        "df_test.shape"
      ],
      "execution_count": 126,
      "outputs": [
        {
          "output_type": "execute_result",
          "data": {
            "text/plain": [
              "(90, 14)"
            ]
          },
          "metadata": {
            "tags": []
          },
          "execution_count": 126
        }
      ]
    },
    {
      "metadata": {
        "id": "h6LqRpRb3TuX",
        "colab_type": "code",
        "colab": {
          "base_uri": "https://localhost:8080/",
          "height": 34
        },
        "outputId": "61618b85-5e91-457b-a1de-dd415a9b6991"
      },
      "cell_type": "code",
      "source": [
        "Xtest = df_test.drop('patient_id',axis=1)\n",
        "thal_enc = pd.get_dummies(Xtest['thal'])\n",
        "Xtest = pd.concat([Xtest,thal_enc],axis=1)\n",
        "Xtest.shape"
      ],
      "execution_count": 158,
      "outputs": [
        {
          "output_type": "execute_result",
          "data": {
            "text/plain": [
              "(90, 16)"
            ]
          },
          "metadata": {
            "tags": []
          },
          "execution_count": 158
        }
      ]
    },
    {
      "metadata": {
        "id": "ratuINex3yll",
        "colab_type": "code",
        "colab": {
          "base_uri": "https://localhost:8080/",
          "height": 34
        },
        "outputId": "39a229b9-9c49-498c-a97d-97b57eb0ce54"
      },
      "cell_type": "code",
      "source": [
        "Xtest.drop('thal',axis=1,inplace=True)\n",
        "Xtest.shape"
      ],
      "execution_count": 159,
      "outputs": [
        {
          "output_type": "execute_result",
          "data": {
            "text/plain": [
              "(90, 15)"
            ]
          },
          "metadata": {
            "tags": []
          },
          "execution_count": 159
        }
      ]
    },
    {
      "metadata": {
        "id": "gzlvH4dM3-HI",
        "colab_type": "code",
        "colab": {
          "base_uri": "https://localhost:8080/",
          "height": 357
        },
        "outputId": "173a0955-24bb-4109-a0ba-5cd842f6b6e8"
      },
      "cell_type": "code",
      "source": [
        "Xtest.info()"
      ],
      "execution_count": 160,
      "outputs": [
        {
          "output_type": "stream",
          "text": [
            "<class 'pandas.core.frame.DataFrame'>\n",
            "RangeIndex: 90 entries, 0 to 89\n",
            "Data columns (total 15 columns):\n",
            "slope_of_peak_exercise_st_segment       90 non-null int64\n",
            "resting_blood_pressure                  90 non-null int64\n",
            "chest_pain_type                         90 non-null int64\n",
            "num_major_vessels                       90 non-null int64\n",
            "fasting_blood_sugar_gt_120_mg_per_dl    90 non-null int64\n",
            "resting_ekg_results                     90 non-null int64\n",
            "serum_cholesterol_mg_per_dl             90 non-null int64\n",
            "oldpeak_eq_st_depression                90 non-null float64\n",
            "sex                                     90 non-null int64\n",
            "age                                     90 non-null int64\n",
            "max_heart_rate_achieved                 90 non-null int64\n",
            "exercise_induced_angina                 90 non-null int64\n",
            "fixed_defect                            90 non-null uint8\n",
            "normal                                  90 non-null uint8\n",
            "reversible_defect                       90 non-null uint8\n",
            "dtypes: float64(1), int64(11), uint8(3)\n",
            "memory usage: 8.8 KB\n"
          ],
          "name": "stdout"
        }
      ]
    },
    {
      "metadata": {
        "id": "1_LF-J_04EGw",
        "colab_type": "code",
        "colab": {}
      },
      "cell_type": "code",
      "source": [
        "test_pred_proba = gbm.predict_proba(Xtest)\n",
        "test_pred  = gbm.predict(Xtest)\n",
        "xgboost_pred_proba = xgbst.predict_proba(Xtest)"
      ],
      "execution_count": 0,
      "outputs": []
    },
    {
      "metadata": {
        "id": "ilIdOlmd4N3x",
        "colab_type": "code",
        "colab": {
          "base_uri": "https://localhost:8080/",
          "height": 34
        },
        "outputId": "9546ae92-6c06-435b-f798-caf43ef8ef79"
      },
      "cell_type": "code",
      "source": [
        "test_pred_proba.shape"
      ],
      "execution_count": 162,
      "outputs": [
        {
          "output_type": "execute_result",
          "data": {
            "text/plain": [
              "(90, 2)"
            ]
          },
          "metadata": {
            "tags": []
          },
          "execution_count": 162
        }
      ]
    },
    {
      "metadata": {
        "id": "o6XivjoP52u5",
        "colab_type": "code",
        "colab": {}
      },
      "cell_type": "code",
      "source": [
        "test_predictions  = np.round(test_pred_proba[:,1:],2)\n",
        "test_predictions_xgboost = np.round(xgboost_pred_proba[:,1:],2)"
      ],
      "execution_count": 0,
      "outputs": []
    },
    {
      "metadata": {
        "id": "0C2HYBLk4rHW",
        "colab_type": "code",
        "colab": {}
      },
      "cell_type": "code",
      "source": [
        "final_submission = pd.DataFrame({'patent_id':df_test['patient_id'].values,'heart_disease_present':np.ravel(test_predictions)})"
      ],
      "execution_count": 0,
      "outputs": []
    },
    {
      "metadata": {
        "id": "FleB5hQj6oVf",
        "colab_type": "code",
        "colab": {
          "base_uri": "https://localhost:8080/",
          "height": 204
        },
        "outputId": "1363d33f-78d8-44d4-d724-75a9aeac1428"
      },
      "cell_type": "code",
      "source": [
        "final_submission.head()"
      ],
      "execution_count": 167,
      "outputs": [
        {
          "output_type": "execute_result",
          "data": {
            "text/html": [
              "<div>\n",
              "<style scoped>\n",
              "    .dataframe tbody tr th:only-of-type {\n",
              "        vertical-align: middle;\n",
              "    }\n",
              "\n",
              "    .dataframe tbody tr th {\n",
              "        vertical-align: top;\n",
              "    }\n",
              "\n",
              "    .dataframe thead th {\n",
              "        text-align: right;\n",
              "    }\n",
              "</style>\n",
              "<table border=\"1\" class=\"dataframe\">\n",
              "  <thead>\n",
              "    <tr style=\"text-align: right;\">\n",
              "      <th></th>\n",
              "      <th>patent_id</th>\n",
              "      <th>heart_disease_present</th>\n",
              "    </tr>\n",
              "  </thead>\n",
              "  <tbody>\n",
              "    <tr>\n",
              "      <th>0</th>\n",
              "      <td>olalu7</td>\n",
              "      <td>0.53</td>\n",
              "    </tr>\n",
              "    <tr>\n",
              "      <th>1</th>\n",
              "      <td>z9n6mx</td>\n",
              "      <td>0.22</td>\n",
              "    </tr>\n",
              "    <tr>\n",
              "      <th>2</th>\n",
              "      <td>5k4413</td>\n",
              "      <td>0.79</td>\n",
              "    </tr>\n",
              "    <tr>\n",
              "      <th>3</th>\n",
              "      <td>mrg7q5</td>\n",
              "      <td>0.22</td>\n",
              "    </tr>\n",
              "    <tr>\n",
              "      <th>4</th>\n",
              "      <td>uki4do</td>\n",
              "      <td>0.71</td>\n",
              "    </tr>\n",
              "  </tbody>\n",
              "</table>\n",
              "</div>"
            ],
            "text/plain": [
              "  patent_id  heart_disease_present\n",
              "0    olalu7                   0.53\n",
              "1    z9n6mx                   0.22\n",
              "2    5k4413                   0.79\n",
              "3    mrg7q5                   0.22\n",
              "4    uki4do                   0.71"
            ]
          },
          "metadata": {
            "tags": []
          },
          "execution_count": 167
        }
      ]
    },
    {
      "metadata": {
        "id": "jFSoicUY6uWw",
        "colab_type": "code",
        "colab": {}
      },
      "cell_type": "code",
      "source": [
        "final_submission.to_csv('gradient_boosting_classifier_submission.csv',index=False)"
      ],
      "execution_count": 0,
      "outputs": []
    },
    {
      "metadata": {
        "id": "GZkYMuUvG_7P",
        "colab_type": "code",
        "colab": {}
      },
      "cell_type": "code",
      "source": [
        "final_submission_xgboost = pd.DataFrame({'patent_id':df_test['patient_id'].values,'heart_disease_present':np.ravel(test_predictions_xgboost)})"
      ],
      "execution_count": 0,
      "outputs": []
    },
    {
      "metadata": {
        "id": "D5WCZfCOHIRX",
        "colab_type": "code",
        "colab": {
          "base_uri": "https://localhost:8080/",
          "height": 204
        },
        "outputId": "d1f33121-d70d-46fd-d149-1e7cd00dbda8"
      },
      "cell_type": "code",
      "source": [
        "final_submission_xgboost.head()"
      ],
      "execution_count": 169,
      "outputs": [
        {
          "output_type": "execute_result",
          "data": {
            "text/html": [
              "<div>\n",
              "<style scoped>\n",
              "    .dataframe tbody tr th:only-of-type {\n",
              "        vertical-align: middle;\n",
              "    }\n",
              "\n",
              "    .dataframe tbody tr th {\n",
              "        vertical-align: top;\n",
              "    }\n",
              "\n",
              "    .dataframe thead th {\n",
              "        text-align: right;\n",
              "    }\n",
              "</style>\n",
              "<table border=\"1\" class=\"dataframe\">\n",
              "  <thead>\n",
              "    <tr style=\"text-align: right;\">\n",
              "      <th></th>\n",
              "      <th>patent_id</th>\n",
              "      <th>heart_disease_present</th>\n",
              "    </tr>\n",
              "  </thead>\n",
              "  <tbody>\n",
              "    <tr>\n",
              "      <th>0</th>\n",
              "      <td>olalu7</td>\n",
              "      <td>0.54</td>\n",
              "    </tr>\n",
              "    <tr>\n",
              "      <th>1</th>\n",
              "      <td>z9n6mx</td>\n",
              "      <td>0.13</td>\n",
              "    </tr>\n",
              "    <tr>\n",
              "      <th>2</th>\n",
              "      <td>5k4413</td>\n",
              "      <td>0.97</td>\n",
              "    </tr>\n",
              "    <tr>\n",
              "      <th>3</th>\n",
              "      <td>mrg7q5</td>\n",
              "      <td>0.02</td>\n",
              "    </tr>\n",
              "    <tr>\n",
              "      <th>4</th>\n",
              "      <td>uki4do</td>\n",
              "      <td>0.96</td>\n",
              "    </tr>\n",
              "  </tbody>\n",
              "</table>\n",
              "</div>"
            ],
            "text/plain": [
              "  patent_id  heart_disease_present\n",
              "0    olalu7                   0.54\n",
              "1    z9n6mx                   0.13\n",
              "2    5k4413                   0.97\n",
              "3    mrg7q5                   0.02\n",
              "4    uki4do                   0.96"
            ]
          },
          "metadata": {
            "tags": []
          },
          "execution_count": 169
        }
      ]
    },
    {
      "metadata": {
        "id": "q_scl91fHN1T",
        "colab_type": "code",
        "colab": {}
      },
      "cell_type": "code",
      "source": [
        "final_submission_xgboost.to_csv('xgboost_classifier_submission.csv',index=False)"
      ],
      "execution_count": 0,
      "outputs": []
    }
  ]
}